{
 "cells": [
  {
   "cell_type": "markdown",
   "id": "ccea90a7-8592-456f-8cf5-0b233f7f1ad3",
   "metadata": {},
   "source": [
    "Je vis bien"
   ]
  },
  {
   "cell_type": "code",
   "execution_count": 4,
   "id": "54e38d2c-cde4-430a-98fb-374dd04148d6",
   "metadata": {},
   "outputs": [
    {
     "name": "stdout",
     "output_type": "stream",
     "text": [
      "TEST\n"
     ]
    }
   ],
   "source": []
  },
  {
   "cell_type": "code",
   "execution_count": null,
   "id": "49f83325-6f4c-4a1f-b8e5-3c387cb8d18f",
   "metadata": {},
   "outputs": [],
   "source": []
  },
  {
   "cell_type": "code",
   "execution_count": null,
   "id": "b89692ac-4c56-45c2-b53c-2b1786f64272",
   "metadata": {},
   "outputs": [],
   "source": []
  },
  {
   "cell_type": "markdown",
   "id": "8aa39004-83cd-4e3e-9a3b-a135188075b7",
   "metadata": {},
   "source": []
  }
 ],
 "metadata": {
  "kernelspec": {
   "display_name": "Python 3 (ipykernel)",
   "language": "python",
   "name": "python3"
  },
  "language_info": {
   "codemirror_mode": {
    "name": "ipython",
    "version": 3
   },
   "file_extension": ".py",
   "mimetype": "text/x-python",
   "name": "python",
   "nbconvert_exporter": "python",
   "pygments_lexer": "ipython3",
   "version": "3.10.12"
  }
 },
 "nbformat": 4,
 "nbformat_minor": 5
}
